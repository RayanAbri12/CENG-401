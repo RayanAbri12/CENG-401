{
 "cells": [
  {
   "cell_type": "code",
   "execution_count": 10,
   "metadata": {},
   "outputs": [],
   "source": [
    "import numpy as np\n",
    "import pandas as pd\n",
    "from numpy.random import randn"
   ]
  },
  {
   "cell_type": "code",
   "execution_count": 11,
   "metadata": {},
   "outputs": [],
   "source": [
    "GRP = ['Turkey','Turkey','Turkey','Turkey','Iran','Iran','Iran']\n",
    "CTY = ['IST','ANK','IZM','ANT','TBZ','THR','ISF']"
   ]
  },
  {
   "cell_type": "code",
   "execution_count": 12,
   "metadata": {},
   "outputs": [],
   "source": [
    "hier_index = list(zip(GRP,CTY))"
   ]
  },
  {
   "cell_type": "code",
   "execution_count": 13,
   "metadata": {},
   "outputs": [
    {
     "data": {
      "text/plain": [
       "[('Turkey', 'IST'),\n",
       " ('Turkey', 'ANK'),\n",
       " ('Turkey', 'IZM'),\n",
       " ('Turkey', 'ANT'),\n",
       " ('Iran', 'TBZ'),\n",
       " ('Iran', 'THR'),\n",
       " ('Iran', 'ISF')]"
      ]
     },
     "execution_count": 13,
     "metadata": {},
     "output_type": "execute_result"
    }
   ],
   "source": [
    "hier_index"
   ]
  },
  {
   "cell_type": "code",
   "execution_count": 14,
   "metadata": {},
   "outputs": [],
   "source": [
    "hier_index = pd.MultiIndex.from_tuples(hier_index)"
   ]
  },
  {
   "cell_type": "code",
   "execution_count": 20,
   "metadata": {},
   "outputs": [],
   "source": [
    "_df = pd.DataFrame(randn(7,6),hier_index,['A','B','C','D','E','F'])"
   ]
  },
  {
   "cell_type": "code",
   "execution_count": 21,
   "metadata": {},
   "outputs": [
    {
     "data": {
      "text/html": [
       "<div>\n",
       "<style scoped>\n",
       "    .dataframe tbody tr th:only-of-type {\n",
       "        vertical-align: middle;\n",
       "    }\n",
       "\n",
       "    .dataframe tbody tr th {\n",
       "        vertical-align: top;\n",
       "    }\n",
       "\n",
       "    .dataframe thead th {\n",
       "        text-align: right;\n",
       "    }\n",
       "</style>\n",
       "<table border=\"1\" class=\"dataframe\">\n",
       "  <thead>\n",
       "    <tr style=\"text-align: right;\">\n",
       "      <th></th>\n",
       "      <th></th>\n",
       "      <th>A</th>\n",
       "      <th>B</th>\n",
       "      <th>C</th>\n",
       "      <th>D</th>\n",
       "      <th>E</th>\n",
       "      <th>F</th>\n",
       "    </tr>\n",
       "  </thead>\n",
       "  <tbody>\n",
       "    <tr>\n",
       "      <th rowspan=\"4\" valign=\"top\">Turkey</th>\n",
       "      <th>IST</th>\n",
       "      <td>-1.082910</td>\n",
       "      <td>-1.435315</td>\n",
       "      <td>0.288373</td>\n",
       "      <td>0.368712</td>\n",
       "      <td>0.928840</td>\n",
       "      <td>0.431659</td>\n",
       "    </tr>\n",
       "    <tr>\n",
       "      <th>ANK</th>\n",
       "      <td>0.579241</td>\n",
       "      <td>-1.333883</td>\n",
       "      <td>-1.805162</td>\n",
       "      <td>0.558516</td>\n",
       "      <td>-0.955413</td>\n",
       "      <td>0.005685</td>\n",
       "    </tr>\n",
       "    <tr>\n",
       "      <th>IZM</th>\n",
       "      <td>0.055717</td>\n",
       "      <td>2.226630</td>\n",
       "      <td>0.718575</td>\n",
       "      <td>-0.327485</td>\n",
       "      <td>-0.851685</td>\n",
       "      <td>-1.005062</td>\n",
       "    </tr>\n",
       "    <tr>\n",
       "      <th>ANT</th>\n",
       "      <td>0.540700</td>\n",
       "      <td>-0.833899</td>\n",
       "      <td>0.189683</td>\n",
       "      <td>2.743569</td>\n",
       "      <td>0.364161</td>\n",
       "      <td>-1.458158</td>\n",
       "    </tr>\n",
       "    <tr>\n",
       "      <th rowspan=\"3\" valign=\"top\">Iran</th>\n",
       "      <th>TBZ</th>\n",
       "      <td>-1.349109</td>\n",
       "      <td>-0.746492</td>\n",
       "      <td>0.065953</td>\n",
       "      <td>-0.029275</td>\n",
       "      <td>0.103586</td>\n",
       "      <td>0.093870</td>\n",
       "    </tr>\n",
       "    <tr>\n",
       "      <th>THR</th>\n",
       "      <td>1.180027</td>\n",
       "      <td>-0.024069</td>\n",
       "      <td>-0.754514</td>\n",
       "      <td>-0.541547</td>\n",
       "      <td>-0.097847</td>\n",
       "      <td>-0.819321</td>\n",
       "    </tr>\n",
       "    <tr>\n",
       "      <th>ISF</th>\n",
       "      <td>-0.030115</td>\n",
       "      <td>-2.053718</td>\n",
       "      <td>1.095889</td>\n",
       "      <td>-0.459535</td>\n",
       "      <td>0.306205</td>\n",
       "      <td>0.888493</td>\n",
       "    </tr>\n",
       "  </tbody>\n",
       "</table>\n",
       "</div>"
      ],
      "text/plain": [
       "                   A         B         C         D         E         F\n",
       "Turkey IST -1.082910 -1.435315  0.288373  0.368712  0.928840  0.431659\n",
       "       ANK  0.579241 -1.333883 -1.805162  0.558516 -0.955413  0.005685\n",
       "       IZM  0.055717  2.226630  0.718575 -0.327485 -0.851685 -1.005062\n",
       "       ANT  0.540700 -0.833899  0.189683  2.743569  0.364161 -1.458158\n",
       "Iran   TBZ -1.349109 -0.746492  0.065953 -0.029275  0.103586  0.093870\n",
       "       THR  1.180027 -0.024069 -0.754514 -0.541547 -0.097847 -0.819321\n",
       "       ISF -0.030115 -2.053718  1.095889 -0.459535  0.306205  0.888493"
      ]
     },
     "execution_count": 21,
     "metadata": {},
     "output_type": "execute_result"
    }
   ],
   "source": [
    "_df"
   ]
  },
  {
   "cell_type": "code",
   "execution_count": 23,
   "metadata": {},
   "outputs": [
    {
     "data": {
      "text/html": [
       "<div>\n",
       "<style scoped>\n",
       "    .dataframe tbody tr th:only-of-type {\n",
       "        vertical-align: middle;\n",
       "    }\n",
       "\n",
       "    .dataframe tbody tr th {\n",
       "        vertical-align: top;\n",
       "    }\n",
       "\n",
       "    .dataframe thead th {\n",
       "        text-align: right;\n",
       "    }\n",
       "</style>\n",
       "<table border=\"1\" class=\"dataframe\">\n",
       "  <thead>\n",
       "    <tr style=\"text-align: right;\">\n",
       "      <th></th>\n",
       "      <th>A</th>\n",
       "      <th>B</th>\n",
       "      <th>C</th>\n",
       "      <th>D</th>\n",
       "      <th>E</th>\n",
       "      <th>F</th>\n",
       "    </tr>\n",
       "  </thead>\n",
       "  <tbody>\n",
       "    <tr>\n",
       "      <th>IST</th>\n",
       "      <td>-1.082910</td>\n",
       "      <td>-1.435315</td>\n",
       "      <td>0.288373</td>\n",
       "      <td>0.368712</td>\n",
       "      <td>0.928840</td>\n",
       "      <td>0.431659</td>\n",
       "    </tr>\n",
       "    <tr>\n",
       "      <th>ANK</th>\n",
       "      <td>0.579241</td>\n",
       "      <td>-1.333883</td>\n",
       "      <td>-1.805162</td>\n",
       "      <td>0.558516</td>\n",
       "      <td>-0.955413</td>\n",
       "      <td>0.005685</td>\n",
       "    </tr>\n",
       "    <tr>\n",
       "      <th>IZM</th>\n",
       "      <td>0.055717</td>\n",
       "      <td>2.226630</td>\n",
       "      <td>0.718575</td>\n",
       "      <td>-0.327485</td>\n",
       "      <td>-0.851685</td>\n",
       "      <td>-1.005062</td>\n",
       "    </tr>\n",
       "    <tr>\n",
       "      <th>ANT</th>\n",
       "      <td>0.540700</td>\n",
       "      <td>-0.833899</td>\n",
       "      <td>0.189683</td>\n",
       "      <td>2.743569</td>\n",
       "      <td>0.364161</td>\n",
       "      <td>-1.458158</td>\n",
       "    </tr>\n",
       "  </tbody>\n",
       "</table>\n",
       "</div>"
      ],
      "text/plain": [
       "            A         B         C         D         E         F\n",
       "IST -1.082910 -1.435315  0.288373  0.368712  0.928840  0.431659\n",
       "ANK  0.579241 -1.333883 -1.805162  0.558516 -0.955413  0.005685\n",
       "IZM  0.055717  2.226630  0.718575 -0.327485 -0.851685 -1.005062\n",
       "ANT  0.540700 -0.833899  0.189683  2.743569  0.364161 -1.458158"
      ]
     },
     "execution_count": 23,
     "metadata": {},
     "output_type": "execute_result"
    }
   ],
   "source": [
    "_df.loc['Turkey']"
   ]
  },
  {
   "cell_type": "code",
   "execution_count": 24,
   "metadata": {},
   "outputs": [
    {
     "data": {
      "text/plain": [
       "A    0.579241\n",
       "B   -1.333883\n",
       "C   -1.805162\n",
       "D    0.558516\n",
       "E   -0.955413\n",
       "F    0.005685\n",
       "Name: ANK, dtype: float64"
      ]
     },
     "execution_count": 24,
     "metadata": {},
     "output_type": "execute_result"
    }
   ],
   "source": [
    "_df.loc['Turkey'].loc['ANK']"
   ]
  },
  {
   "cell_type": "code",
   "execution_count": 25,
   "metadata": {},
   "outputs": [
    {
     "data": {
      "text/plain": [
       "FrozenList([None, None])"
      ]
     },
     "execution_count": 25,
     "metadata": {},
     "output_type": "execute_result"
    }
   ],
   "source": [
    "_df.index.names"
   ]
  },
  {
   "cell_type": "code",
   "execution_count": 26,
   "metadata": {},
   "outputs": [],
   "source": [
    "_df.index.names = ['GRP','CTY']"
   ]
  },
  {
   "cell_type": "code",
   "execution_count": 27,
   "metadata": {},
   "outputs": [
    {
     "data": {
      "text/html": [
       "<div>\n",
       "<style scoped>\n",
       "    .dataframe tbody tr th:only-of-type {\n",
       "        vertical-align: middle;\n",
       "    }\n",
       "\n",
       "    .dataframe tbody tr th {\n",
       "        vertical-align: top;\n",
       "    }\n",
       "\n",
       "    .dataframe thead th {\n",
       "        text-align: right;\n",
       "    }\n",
       "</style>\n",
       "<table border=\"1\" class=\"dataframe\">\n",
       "  <thead>\n",
       "    <tr style=\"text-align: right;\">\n",
       "      <th></th>\n",
       "      <th></th>\n",
       "      <th>A</th>\n",
       "      <th>B</th>\n",
       "      <th>C</th>\n",
       "      <th>D</th>\n",
       "      <th>E</th>\n",
       "      <th>F</th>\n",
       "    </tr>\n",
       "    <tr>\n",
       "      <th>GRP</th>\n",
       "      <th>CTY</th>\n",
       "      <th></th>\n",
       "      <th></th>\n",
       "      <th></th>\n",
       "      <th></th>\n",
       "      <th></th>\n",
       "      <th></th>\n",
       "    </tr>\n",
       "  </thead>\n",
       "  <tbody>\n",
       "    <tr>\n",
       "      <th rowspan=\"4\" valign=\"top\">Turkey</th>\n",
       "      <th>IST</th>\n",
       "      <td>-1.082910</td>\n",
       "      <td>-1.435315</td>\n",
       "      <td>0.288373</td>\n",
       "      <td>0.368712</td>\n",
       "      <td>0.928840</td>\n",
       "      <td>0.431659</td>\n",
       "    </tr>\n",
       "    <tr>\n",
       "      <th>ANK</th>\n",
       "      <td>0.579241</td>\n",
       "      <td>-1.333883</td>\n",
       "      <td>-1.805162</td>\n",
       "      <td>0.558516</td>\n",
       "      <td>-0.955413</td>\n",
       "      <td>0.005685</td>\n",
       "    </tr>\n",
       "    <tr>\n",
       "      <th>IZM</th>\n",
       "      <td>0.055717</td>\n",
       "      <td>2.226630</td>\n",
       "      <td>0.718575</td>\n",
       "      <td>-0.327485</td>\n",
       "      <td>-0.851685</td>\n",
       "      <td>-1.005062</td>\n",
       "    </tr>\n",
       "    <tr>\n",
       "      <th>ANT</th>\n",
       "      <td>0.540700</td>\n",
       "      <td>-0.833899</td>\n",
       "      <td>0.189683</td>\n",
       "      <td>2.743569</td>\n",
       "      <td>0.364161</td>\n",
       "      <td>-1.458158</td>\n",
       "    </tr>\n",
       "    <tr>\n",
       "      <th rowspan=\"3\" valign=\"top\">Iran</th>\n",
       "      <th>TBZ</th>\n",
       "      <td>-1.349109</td>\n",
       "      <td>-0.746492</td>\n",
       "      <td>0.065953</td>\n",
       "      <td>-0.029275</td>\n",
       "      <td>0.103586</td>\n",
       "      <td>0.093870</td>\n",
       "    </tr>\n",
       "    <tr>\n",
       "      <th>THR</th>\n",
       "      <td>1.180027</td>\n",
       "      <td>-0.024069</td>\n",
       "      <td>-0.754514</td>\n",
       "      <td>-0.541547</td>\n",
       "      <td>-0.097847</td>\n",
       "      <td>-0.819321</td>\n",
       "    </tr>\n",
       "    <tr>\n",
       "      <th>ISF</th>\n",
       "      <td>-0.030115</td>\n",
       "      <td>-2.053718</td>\n",
       "      <td>1.095889</td>\n",
       "      <td>-0.459535</td>\n",
       "      <td>0.306205</td>\n",
       "      <td>0.888493</td>\n",
       "    </tr>\n",
       "  </tbody>\n",
       "</table>\n",
       "</div>"
      ],
      "text/plain": [
       "                   A         B         C         D         E         F\n",
       "GRP    CTY                                                            \n",
       "Turkey IST -1.082910 -1.435315  0.288373  0.368712  0.928840  0.431659\n",
       "       ANK  0.579241 -1.333883 -1.805162  0.558516 -0.955413  0.005685\n",
       "       IZM  0.055717  2.226630  0.718575 -0.327485 -0.851685 -1.005062\n",
       "       ANT  0.540700 -0.833899  0.189683  2.743569  0.364161 -1.458158\n",
       "Iran   TBZ -1.349109 -0.746492  0.065953 -0.029275  0.103586  0.093870\n",
       "       THR  1.180027 -0.024069 -0.754514 -0.541547 -0.097847 -0.819321\n",
       "       ISF -0.030115 -2.053718  1.095889 -0.459535  0.306205  0.888493"
      ]
     },
     "execution_count": 27,
     "metadata": {},
     "output_type": "execute_result"
    }
   ],
   "source": [
    "_df"
   ]
  },
  {
   "cell_type": "code",
   "execution_count": 28,
   "metadata": {},
   "outputs": [
    {
     "data": {
      "text/plain": [
       "-0.0292751192747812"
      ]
     },
     "execution_count": 28,
     "metadata": {},
     "output_type": "execute_result"
    }
   ],
   "source": [
    "_df.loc['Iran'].loc['TBZ']['D']"
   ]
  },
  {
   "cell_type": "code",
   "execution_count": 29,
   "metadata": {},
   "outputs": [],
   "source": [
    "# XS cross-section (row(s) or column(s) from the dataframe)"
   ]
  },
  {
   "cell_type": "code",
   "execution_count": 31,
   "metadata": {},
   "outputs": [],
   "source": [
    "GRP = ['Turkey','Turkey','Turkey','Turkey','Iran','Iran','Iran']\n",
    "CTY = [1,2,3,4,1,2,3]\n",
    "hier_index = list(zip(GRP,CTY))\n",
    "hier_index = pd.MultiIndex.from_tuples(hier_index)\n",
    "_df1 = pd.DataFrame(randn(7,6),hier_index,['A','B','C','D','E','F'])"
   ]
  },
  {
   "cell_type": "code",
   "execution_count": 32,
   "metadata": {},
   "outputs": [
    {
     "data": {
      "text/html": [
       "<div>\n",
       "<style scoped>\n",
       "    .dataframe tbody tr th:only-of-type {\n",
       "        vertical-align: middle;\n",
       "    }\n",
       "\n",
       "    .dataframe tbody tr th {\n",
       "        vertical-align: top;\n",
       "    }\n",
       "\n",
       "    .dataframe thead th {\n",
       "        text-align: right;\n",
       "    }\n",
       "</style>\n",
       "<table border=\"1\" class=\"dataframe\">\n",
       "  <thead>\n",
       "    <tr style=\"text-align: right;\">\n",
       "      <th></th>\n",
       "      <th></th>\n",
       "      <th>A</th>\n",
       "      <th>B</th>\n",
       "      <th>C</th>\n",
       "      <th>D</th>\n",
       "      <th>E</th>\n",
       "      <th>F</th>\n",
       "    </tr>\n",
       "  </thead>\n",
       "  <tbody>\n",
       "    <tr>\n",
       "      <th rowspan=\"4\" valign=\"top\">Turkey</th>\n",
       "      <th>1</th>\n",
       "      <td>0.001618</td>\n",
       "      <td>1.115675</td>\n",
       "      <td>0.103556</td>\n",
       "      <td>0.671535</td>\n",
       "      <td>1.244827</td>\n",
       "      <td>0.901202</td>\n",
       "    </tr>\n",
       "    <tr>\n",
       "      <th>2</th>\n",
       "      <td>-1.249905</td>\n",
       "      <td>0.826044</td>\n",
       "      <td>-0.852471</td>\n",
       "      <td>-0.805678</td>\n",
       "      <td>0.021917</td>\n",
       "      <td>-0.590081</td>\n",
       "    </tr>\n",
       "    <tr>\n",
       "      <th>3</th>\n",
       "      <td>0.800895</td>\n",
       "      <td>-0.128183</td>\n",
       "      <td>-0.541901</td>\n",
       "      <td>0.446926</td>\n",
       "      <td>-0.071758</td>\n",
       "      <td>-1.024614</td>\n",
       "    </tr>\n",
       "    <tr>\n",
       "      <th>4</th>\n",
       "      <td>0.615657</td>\n",
       "      <td>-2.455598</td>\n",
       "      <td>-0.287100</td>\n",
       "      <td>0.492825</td>\n",
       "      <td>0.593422</td>\n",
       "      <td>2.306849</td>\n",
       "    </tr>\n",
       "    <tr>\n",
       "      <th rowspan=\"3\" valign=\"top\">Iran</th>\n",
       "      <th>1</th>\n",
       "      <td>-0.166339</td>\n",
       "      <td>0.635364</td>\n",
       "      <td>-0.100287</td>\n",
       "      <td>1.423988</td>\n",
       "      <td>-0.151471</td>\n",
       "      <td>0.524130</td>\n",
       "    </tr>\n",
       "    <tr>\n",
       "      <th>2</th>\n",
       "      <td>-0.930494</td>\n",
       "      <td>1.338205</td>\n",
       "      <td>-0.558816</td>\n",
       "      <td>-0.372632</td>\n",
       "      <td>-0.070154</td>\n",
       "      <td>0.593511</td>\n",
       "    </tr>\n",
       "    <tr>\n",
       "      <th>3</th>\n",
       "      <td>0.978374</td>\n",
       "      <td>-0.276312</td>\n",
       "      <td>0.857424</td>\n",
       "      <td>0.653800</td>\n",
       "      <td>-1.050280</td>\n",
       "      <td>-1.419598</td>\n",
       "    </tr>\n",
       "  </tbody>\n",
       "</table>\n",
       "</div>"
      ],
      "text/plain": [
       "                 A         B         C         D         E         F\n",
       "Turkey 1  0.001618  1.115675  0.103556  0.671535  1.244827  0.901202\n",
       "       2 -1.249905  0.826044 -0.852471 -0.805678  0.021917 -0.590081\n",
       "       3  0.800895 -0.128183 -0.541901  0.446926 -0.071758 -1.024614\n",
       "       4  0.615657 -2.455598 -0.287100  0.492825  0.593422  2.306849\n",
       "Iran   1 -0.166339  0.635364 -0.100287  1.423988 -0.151471  0.524130\n",
       "       2 -0.930494  1.338205 -0.558816 -0.372632 -0.070154  0.593511\n",
       "       3  0.978374 -0.276312  0.857424  0.653800 -1.050280 -1.419598"
      ]
     },
     "execution_count": 32,
     "metadata": {},
     "output_type": "execute_result"
    }
   ],
   "source": [
    "_df1"
   ]
  },
  {
   "cell_type": "code",
   "execution_count": 33,
   "metadata": {},
   "outputs": [],
   "source": [
    "_df1.index.names = ['GRP','Num']"
   ]
  },
  {
   "cell_type": "code",
   "execution_count": 34,
   "metadata": {},
   "outputs": [
    {
     "data": {
      "text/html": [
       "<div>\n",
       "<style scoped>\n",
       "    .dataframe tbody tr th:only-of-type {\n",
       "        vertical-align: middle;\n",
       "    }\n",
       "\n",
       "    .dataframe tbody tr th {\n",
       "        vertical-align: top;\n",
       "    }\n",
       "\n",
       "    .dataframe thead th {\n",
       "        text-align: right;\n",
       "    }\n",
       "</style>\n",
       "<table border=\"1\" class=\"dataframe\">\n",
       "  <thead>\n",
       "    <tr style=\"text-align: right;\">\n",
       "      <th></th>\n",
       "      <th></th>\n",
       "      <th>A</th>\n",
       "      <th>B</th>\n",
       "      <th>C</th>\n",
       "      <th>D</th>\n",
       "      <th>E</th>\n",
       "      <th>F</th>\n",
       "    </tr>\n",
       "    <tr>\n",
       "      <th>GRP</th>\n",
       "      <th>Num</th>\n",
       "      <th></th>\n",
       "      <th></th>\n",
       "      <th></th>\n",
       "      <th></th>\n",
       "      <th></th>\n",
       "      <th></th>\n",
       "    </tr>\n",
       "  </thead>\n",
       "  <tbody>\n",
       "    <tr>\n",
       "      <th rowspan=\"4\" valign=\"top\">Turkey</th>\n",
       "      <th>1</th>\n",
       "      <td>0.001618</td>\n",
       "      <td>1.115675</td>\n",
       "      <td>0.103556</td>\n",
       "      <td>0.671535</td>\n",
       "      <td>1.244827</td>\n",
       "      <td>0.901202</td>\n",
       "    </tr>\n",
       "    <tr>\n",
       "      <th>2</th>\n",
       "      <td>-1.249905</td>\n",
       "      <td>0.826044</td>\n",
       "      <td>-0.852471</td>\n",
       "      <td>-0.805678</td>\n",
       "      <td>0.021917</td>\n",
       "      <td>-0.590081</td>\n",
       "    </tr>\n",
       "    <tr>\n",
       "      <th>3</th>\n",
       "      <td>0.800895</td>\n",
       "      <td>-0.128183</td>\n",
       "      <td>-0.541901</td>\n",
       "      <td>0.446926</td>\n",
       "      <td>-0.071758</td>\n",
       "      <td>-1.024614</td>\n",
       "    </tr>\n",
       "    <tr>\n",
       "      <th>4</th>\n",
       "      <td>0.615657</td>\n",
       "      <td>-2.455598</td>\n",
       "      <td>-0.287100</td>\n",
       "      <td>0.492825</td>\n",
       "      <td>0.593422</td>\n",
       "      <td>2.306849</td>\n",
       "    </tr>\n",
       "    <tr>\n",
       "      <th rowspan=\"3\" valign=\"top\">Iran</th>\n",
       "      <th>1</th>\n",
       "      <td>-0.166339</td>\n",
       "      <td>0.635364</td>\n",
       "      <td>-0.100287</td>\n",
       "      <td>1.423988</td>\n",
       "      <td>-0.151471</td>\n",
       "      <td>0.524130</td>\n",
       "    </tr>\n",
       "    <tr>\n",
       "      <th>2</th>\n",
       "      <td>-0.930494</td>\n",
       "      <td>1.338205</td>\n",
       "      <td>-0.558816</td>\n",
       "      <td>-0.372632</td>\n",
       "      <td>-0.070154</td>\n",
       "      <td>0.593511</td>\n",
       "    </tr>\n",
       "    <tr>\n",
       "      <th>3</th>\n",
       "      <td>0.978374</td>\n",
       "      <td>-0.276312</td>\n",
       "      <td>0.857424</td>\n",
       "      <td>0.653800</td>\n",
       "      <td>-1.050280</td>\n",
       "      <td>-1.419598</td>\n",
       "    </tr>\n",
       "  </tbody>\n",
       "</table>\n",
       "</div>"
      ],
      "text/plain": [
       "                   A         B         C         D         E         F\n",
       "GRP    Num                                                            \n",
       "Turkey 1    0.001618  1.115675  0.103556  0.671535  1.244827  0.901202\n",
       "       2   -1.249905  0.826044 -0.852471 -0.805678  0.021917 -0.590081\n",
       "       3    0.800895 -0.128183 -0.541901  0.446926 -0.071758 -1.024614\n",
       "       4    0.615657 -2.455598 -0.287100  0.492825  0.593422  2.306849\n",
       "Iran   1   -0.166339  0.635364 -0.100287  1.423988 -0.151471  0.524130\n",
       "       2   -0.930494  1.338205 -0.558816 -0.372632 -0.070154  0.593511\n",
       "       3    0.978374 -0.276312  0.857424  0.653800 -1.050280 -1.419598"
      ]
     },
     "execution_count": 34,
     "metadata": {},
     "output_type": "execute_result"
    }
   ],
   "source": [
    "_df1"
   ]
  },
  {
   "cell_type": "code",
   "execution_count": 35,
   "metadata": {},
   "outputs": [
    {
     "data": {
      "text/html": [
       "<div>\n",
       "<style scoped>\n",
       "    .dataframe tbody tr th:only-of-type {\n",
       "        vertical-align: middle;\n",
       "    }\n",
       "\n",
       "    .dataframe tbody tr th {\n",
       "        vertical-align: top;\n",
       "    }\n",
       "\n",
       "    .dataframe thead th {\n",
       "        text-align: right;\n",
       "    }\n",
       "</style>\n",
       "<table border=\"1\" class=\"dataframe\">\n",
       "  <thead>\n",
       "    <tr style=\"text-align: right;\">\n",
       "      <th></th>\n",
       "      <th>A</th>\n",
       "      <th>B</th>\n",
       "      <th>C</th>\n",
       "      <th>D</th>\n",
       "      <th>E</th>\n",
       "      <th>F</th>\n",
       "    </tr>\n",
       "    <tr>\n",
       "      <th>GRP</th>\n",
       "      <th></th>\n",
       "      <th></th>\n",
       "      <th></th>\n",
       "      <th></th>\n",
       "      <th></th>\n",
       "      <th></th>\n",
       "    </tr>\n",
       "  </thead>\n",
       "  <tbody>\n",
       "    <tr>\n",
       "      <th>Turkey</th>\n",
       "      <td>-1.249905</td>\n",
       "      <td>0.826044</td>\n",
       "      <td>-0.852471</td>\n",
       "      <td>-0.805678</td>\n",
       "      <td>0.021917</td>\n",
       "      <td>-0.590081</td>\n",
       "    </tr>\n",
       "    <tr>\n",
       "      <th>Iran</th>\n",
       "      <td>-0.930494</td>\n",
       "      <td>1.338205</td>\n",
       "      <td>-0.558816</td>\n",
       "      <td>-0.372632</td>\n",
       "      <td>-0.070154</td>\n",
       "      <td>0.593511</td>\n",
       "    </tr>\n",
       "  </tbody>\n",
       "</table>\n",
       "</div>"
      ],
      "text/plain": [
       "               A         B         C         D         E         F\n",
       "GRP                                                               \n",
       "Turkey -1.249905  0.826044 -0.852471 -0.805678  0.021917 -0.590081\n",
       "Iran   -0.930494  1.338205 -0.558816 -0.372632 -0.070154  0.593511"
      ]
     },
     "execution_count": 35,
     "metadata": {},
     "output_type": "execute_result"
    }
   ],
   "source": [
    "# XS cross-section (row(s) or column(s) from the dataframe)\n",
    "_df1.xs(2,level='Num')"
   ]
  },
  {
   "cell_type": "code",
   "execution_count": null,
   "metadata": {},
   "outputs": [],
   "source": []
  }
 ],
 "metadata": {
  "kernelspec": {
   "display_name": "Python 3 (ipykernel)",
   "language": "python",
   "name": "python3"
  },
  "language_info": {
   "codemirror_mode": {
    "name": "ipython",
    "version": 3
   },
   "file_extension": ".py",
   "mimetype": "text/x-python",
   "name": "python",
   "nbconvert_exporter": "python",
   "pygments_lexer": "ipython3",
   "version": "3.8.12"
  }
 },
 "nbformat": 4,
 "nbformat_minor": 1
}
