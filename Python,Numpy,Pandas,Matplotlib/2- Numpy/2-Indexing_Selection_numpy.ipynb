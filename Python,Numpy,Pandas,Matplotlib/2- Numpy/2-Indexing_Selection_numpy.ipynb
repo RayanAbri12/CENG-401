{
 "cells": [
  {
   "cell_type": "code",
   "execution_count": 1,
   "id": "7bf9a1ca",
   "metadata": {},
   "outputs": [],
   "source": [
    "import numpy as np"
   ]
  },
  {
   "cell_type": "markdown",
   "id": "ee57dcf9",
   "metadata": {},
   "source": [
    "# NumPy Indexing and Selection"
   ]
  },
  {
   "cell_type": "code",
   "execution_count": 2,
   "id": "906eaa70",
   "metadata": {},
   "outputs": [],
   "source": [
    "_array = np.arange(11,21)"
   ]
  },
  {
   "cell_type": "code",
   "execution_count": 3,
   "id": "8b7d2efd",
   "metadata": {},
   "outputs": [
    {
     "data": {
      "text/plain": [
       "array([11, 12, 13, 14, 15, 16, 17, 18, 19, 20])"
      ]
     },
     "execution_count": 3,
     "metadata": {},
     "output_type": "execute_result"
    }
   ],
   "source": [
    "_array "
   ]
  },
  {
   "cell_type": "code",
   "execution_count": 4,
   "id": "c55fd55e",
   "metadata": {
    "scrolled": true
   },
   "outputs": [
    {
     "data": {
      "text/plain": [
       "19"
      ]
     },
     "execution_count": 4,
     "metadata": {},
     "output_type": "execute_result"
    }
   ],
   "source": [
    "_array[8]"
   ]
  },
  {
   "cell_type": "markdown",
   "id": "d10508d1",
   "metadata": {},
   "source": [
    "# Bracket Indexing and Selection"
   ]
  },
  {
   "cell_type": "code",
   "execution_count": 5,
   "id": "33ac8895",
   "metadata": {},
   "outputs": [
    {
     "data": {
      "text/plain": [
       "array([12, 13, 14])"
      ]
     },
     "execution_count": 5,
     "metadata": {},
     "output_type": "execute_result"
    }
   ],
   "source": [
    "_array[1:4]"
   ]
  },
  {
   "cell_type": "code",
   "execution_count": 6,
   "id": "656e3ce7",
   "metadata": {
    "scrolled": true
   },
   "outputs": [
    {
     "data": {
      "text/plain": [
       "array([11, 12, 13, 14, 15, 16, 17, 18])"
      ]
     },
     "execution_count": 6,
     "metadata": {},
     "output_type": "execute_result"
    }
   ],
   "source": [
    "_array[:8]"
   ]
  },
  {
   "cell_type": "markdown",
   "id": "02c78418",
   "metadata": {},
   "source": [
    "# Broadcasting"
   ]
  },
  {
   "cell_type": "code",
   "execution_count": 10,
   "id": "4f3b811b",
   "metadata": {},
   "outputs": [],
   "source": [
    "# numpy array just like python list,howver in numpy we can do broadcast"
   ]
  },
  {
   "cell_type": "code",
   "execution_count": 11,
   "id": "9ccc2ea4",
   "metadata": {},
   "outputs": [],
   "source": [
    "_array[:4] = 999"
   ]
  },
  {
   "cell_type": "code",
   "execution_count": 12,
   "id": "ea981cae",
   "metadata": {},
   "outputs": [
    {
     "data": {
      "text/plain": [
       "array([999, 999, 999, 999,  15,  16,  17,  18,  19,  20])"
      ]
     },
     "execution_count": 12,
     "metadata": {},
     "output_type": "execute_result"
    }
   ],
   "source": [
    "_array"
   ]
  },
  {
   "cell_type": "code",
   "execution_count": 13,
   "id": "d63e71a2",
   "metadata": {},
   "outputs": [],
   "source": [
    " _arr_cpy = _array.copy()"
   ]
  },
  {
   "cell_type": "code",
   "execution_count": 14,
   "id": "3f959385",
   "metadata": {},
   "outputs": [
    {
     "data": {
      "text/plain": [
       "array([999, 999, 999, 999,  15,  16,  17,  18,  19,  20])"
      ]
     },
     "execution_count": 14,
     "metadata": {},
     "output_type": "execute_result"
    }
   ],
   "source": [
    "_arr_cpy"
   ]
  },
  {
   "cell_type": "markdown",
   "id": "64fc0b9e",
   "metadata": {},
   "source": [
    "# indexing and selection arrays"
   ]
  },
  {
   "cell_type": "code",
   "execution_count": 15,
   "id": "d3abcec5",
   "metadata": {},
   "outputs": [],
   "source": [
    "_2d = np.array([[3,56,76,90],[234,56,78,0],[23,56,789,90]])"
   ]
  },
  {
   "cell_type": "code",
   "execution_count": 16,
   "id": "e3a80bcd",
   "metadata": {},
   "outputs": [
    {
     "data": {
      "text/plain": [
       "array([[  3,  56,  76,  90],\n",
       "       [234,  56,  78,   0],\n",
       "       [ 23,  56, 789,  90]])"
      ]
     },
     "execution_count": 16,
     "metadata": {},
     "output_type": "execute_result"
    }
   ],
   "source": [
    "_2d"
   ]
  },
  {
   "cell_type": "code",
   "execution_count": 17,
   "id": "1fc4d4c1",
   "metadata": {},
   "outputs": [
    {
     "data": {
      "text/plain": [
       "90"
      ]
     },
     "execution_count": 17,
     "metadata": {},
     "output_type": "execute_result"
    }
   ],
   "source": [
    "_2d[0][3]"
   ]
  },
  {
   "cell_type": "code",
   "execution_count": 18,
   "id": "c937d0fc",
   "metadata": {},
   "outputs": [
    {
     "data": {
      "text/plain": [
       "array([234,  56,  78,   0])"
      ]
     },
     "execution_count": 18,
     "metadata": {},
     "output_type": "execute_result"
    }
   ],
   "source": [
    "_2d[1]"
   ]
  },
  {
   "cell_type": "code",
   "execution_count": 19,
   "id": "273f86ea",
   "metadata": {},
   "outputs": [
    {
     "data": {
      "text/plain": [
       "90"
      ]
     },
     "execution_count": 19,
     "metadata": {},
     "output_type": "execute_result"
    }
   ],
   "source": [
    "_2d[0,3]"
   ]
  },
  {
   "cell_type": "code",
   "execution_count": 27,
   "id": "45919020",
   "metadata": {},
   "outputs": [
    {
     "data": {
      "text/plain": [
       "array([[ 23,  56, 789,  90]])"
      ]
     },
     "execution_count": 27,
     "metadata": {},
     "output_type": "execute_result"
    }
   ],
   "source": [
    "_2d[:][2:]"
   ]
  },
  {
   "cell_type": "code",
   "execution_count": 29,
   "id": "e9610949",
   "metadata": {},
   "outputs": [
    {
     "data": {
      "text/plain": [
       "array([[76, 90],\n",
       "       [78,  0]])"
      ]
     },
     "execution_count": 29,
     "metadata": {},
     "output_type": "execute_result"
    }
   ],
   "source": [
    "_2d[:2,2:]"
   ]
  },
  {
   "cell_type": "code",
   "execution_count": 30,
   "id": "06c07217",
   "metadata": {},
   "outputs": [
    {
     "data": {
      "text/plain": [
       "array([[False,  True,  True,  True],\n",
       "       [ True,  True,  True, False],\n",
       "       [ True,  True,  True,  True]])"
      ]
     },
     "execution_count": 30,
     "metadata": {},
     "output_type": "execute_result"
    }
   ],
   "source": [
    "_2d > 10"
   ]
  },
  {
   "cell_type": "code",
   "execution_count": 31,
   "id": "dc303510",
   "metadata": {},
   "outputs": [],
   "source": [
    "_bool = _2d > 10"
   ]
  },
  {
   "cell_type": "code",
   "execution_count": 32,
   "id": "dbe2019e",
   "metadata": {},
   "outputs": [
    {
     "data": {
      "text/plain": [
       "array([[False,  True,  True,  True],\n",
       "       [ True,  True,  True, False],\n",
       "       [ True,  True,  True,  True]])"
      ]
     },
     "execution_count": 32,
     "metadata": {},
     "output_type": "execute_result"
    }
   ],
   "source": [
    "_bool"
   ]
  },
  {
   "cell_type": "code",
   "execution_count": 33,
   "id": "f1d04f19",
   "metadata": {},
   "outputs": [
    {
     "data": {
      "text/plain": [
       "array([ 56,  76,  90, 234,  56,  78,  23,  56, 789,  90])"
      ]
     },
     "execution_count": 33,
     "metadata": {},
     "output_type": "execute_result"
    }
   ],
   "source": [
    "_2d[_bool]"
   ]
  },
  {
   "cell_type": "code",
   "execution_count": 34,
   "id": "31ee28ed",
   "metadata": {},
   "outputs": [
    {
     "data": {
      "text/plain": [
       "array([ 56,  76,  90, 234,  56,  78,  56, 789,  90])"
      ]
     },
     "execution_count": 34,
     "metadata": {},
     "output_type": "execute_result"
    }
   ],
   "source": [
    "_2d[_2d > 30]"
   ]
  },
  {
   "cell_type": "code",
   "execution_count": null,
   "id": "6a97e24f",
   "metadata": {},
   "outputs": [],
   "source": []
  }
 ],
 "metadata": {
  "kernelspec": {
   "display_name": "Python 3 (ipykernel)",
   "language": "python",
   "name": "python3"
  },
  "language_info": {
   "codemirror_mode": {
    "name": "ipython",
    "version": 3
   },
   "file_extension": ".py",
   "mimetype": "text/x-python",
   "name": "python",
   "nbconvert_exporter": "python",
   "pygments_lexer": "ipython3",
   "version": "3.8.12"
  }
 },
 "nbformat": 4,
 "nbformat_minor": 5
}
