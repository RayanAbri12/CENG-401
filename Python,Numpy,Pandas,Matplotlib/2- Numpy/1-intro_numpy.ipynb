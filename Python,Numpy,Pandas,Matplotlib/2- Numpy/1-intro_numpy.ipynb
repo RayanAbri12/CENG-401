{
 "cells": [
  {
   "cell_type": "markdown",
   "id": "3a5d8d5d",
   "metadata": {},
   "source": [
    "# Numpy\n",
    "\n",
    "NumPy (or Numpy) is a Linear Algebra Library for Python, the reason it is so important for Data Science with Python is that almost all of the libraries in the PyData Ecosystem rely on NumPy as one of their main building blocks.\n",
    "\n",
    "\n",
    "conda install numpy \n",
    "pip install numpy\n",
    "\n",
    "Numpy is also incredibly fast, as it has bindings to C libraries\n",
    "\n",
    "Numpy has many built-in functions and capabilities. We won't cover them all but instead we will focus on some of the most important aspects of Numpy: vectors,arrays,matrices, and number generation. Let's start by discussing arrays.\n",
    "\n",
    "# Numpy Arrays\n",
    "\n",
    "NumPy arrays are the main way we will use Numpy throughout the course. Numpy arrays essentially come in two flavors: vectors and matrices. Vectors are strictly 1-d arrays and matrices are 2-d (but you should note a matrix can still have only one row or one column).\n",
    "\n",
    "Let's begin our introduction by exploring how to create NumPy arrays.\n",
    "\n",
    "## Creating NumPy Arrays\n",
    "\n",
    "### From a Python List\n",
    "\n",
    "We can create an array by directly converting a list or list of lists:\n",
    "\n",
    "Cover toplics:\n",
    "\n",
    "* np.array\n",
    "* np.arange(start,end,stepsize)\n",
    "* np.zeros(count)\n",
    "* np.ones(count)\n",
    "* np.linspace(start,end,spacepoint)\n",
    "* np.eye(count) //diagnols of ones\n",
    "* np.random.rand(count) //uniform distrubution\n",
    "* np.random.randn(count) // Gaussian distribution]\n",
    "* np.random.randint(start,end,count)\n",
    "* arr.shape\n",
    "* arr.reshape(2,2)\n",
    "* arr.max()\n",
    "* arr.argmax()\n",
    "* arr.dtype\n",
    "\n",
    "\n",
    "\n",
    "\n",
    "\n"
   ]
  },
  {
   "cell_type": "code",
   "execution_count": 1,
   "id": "d7f399b2",
   "metadata": {},
   "outputs": [],
   "source": [
    "_list = [1,2,3,4,5,6,7]"
   ]
  },
  {
   "cell_type": "code",
   "execution_count": 2,
   "id": "001912ba",
   "metadata": {},
   "outputs": [],
   "source": [
    " import numpy as np"
   ]
  },
  {
   "cell_type": "code",
   "execution_count": 3,
   "id": "00c31092",
   "metadata": {},
   "outputs": [],
   "source": [
    "arr = np.array(_list)"
   ]
  },
  {
   "cell_type": "code",
   "execution_count": 4,
   "id": "50fbb400",
   "metadata": {},
   "outputs": [
    {
     "data": {
      "text/plain": [
       "array([1, 2, 3, 4, 5, 6, 7])"
      ]
     },
     "execution_count": 4,
     "metadata": {},
     "output_type": "execute_result"
    }
   ],
   "source": [
    "arr"
   ]
  },
  {
   "cell_type": "code",
   "execution_count": 5,
   "id": "727741be",
   "metadata": {},
   "outputs": [],
   "source": [
    "_list = [[1,2,3],[4,5,6],[8,3,2]]"
   ]
  },
  {
   "cell_type": "code",
   "execution_count": 6,
   "id": "19507ee9",
   "metadata": {},
   "outputs": [],
   "source": [
    "arr = np.array(_list)"
   ]
  },
  {
   "cell_type": "code",
   "execution_count": 7,
   "id": "0ec5a387",
   "metadata": {},
   "outputs": [
    {
     "data": {
      "text/plain": [
       "array([[1, 2, 3],\n",
       "       [4, 5, 6],\n",
       "       [8, 3, 2]])"
      ]
     },
     "execution_count": 7,
     "metadata": {},
     "output_type": "execute_result"
    }
   ],
   "source": [
    "arr"
   ]
  },
  {
   "cell_type": "code",
   "execution_count": 8,
   "id": "74bd0351",
   "metadata": {},
   "outputs": [
    {
     "data": {
      "text/plain": [
       "array([ 1,  2,  3,  4,  5,  6,  7,  8,  9, 10])"
      ]
     },
     "execution_count": 8,
     "metadata": {},
     "output_type": "execute_result"
    }
   ],
   "source": [
    "np.arange(1,11)"
   ]
  },
  {
   "cell_type": "code",
   "execution_count": 9,
   "id": "891a3275",
   "metadata": {},
   "outputs": [
    {
     "data": {
      "text/plain": [
       "array([ 1,  4,  7, 10])"
      ]
     },
     "execution_count": 9,
     "metadata": {},
     "output_type": "execute_result"
    }
   ],
   "source": [
    "#third param is step size\n",
    "np.arange(1,11,3)"
   ]
  },
  {
   "cell_type": "code",
   "execution_count": 10,
   "id": "a617a629",
   "metadata": {},
   "outputs": [
    {
     "data": {
      "text/plain": [
       "array([0., 0., 0.])"
      ]
     },
     "execution_count": 10,
     "metadata": {},
     "output_type": "execute_result"
    }
   ],
   "source": [
    "np.zeros(3)"
   ]
  },
  {
   "cell_type": "code",
   "execution_count": 11,
   "id": "e621ecfe",
   "metadata": {},
   "outputs": [
    {
     "data": {
      "text/plain": [
       "array([[0., 0., 0., 0.],\n",
       "       [0., 0., 0., 0.],\n",
       "       [0., 0., 0., 0.]])"
      ]
     },
     "execution_count": 11,
     "metadata": {},
     "output_type": "execute_result"
    }
   ],
   "source": [
    "np.zeros((3,4))"
   ]
  },
  {
   "cell_type": "code",
   "execution_count": 12,
   "id": "3392fece",
   "metadata": {},
   "outputs": [
    {
     "data": {
      "text/plain": [
       "array([1., 1., 1.])"
      ]
     },
     "execution_count": 12,
     "metadata": {},
     "output_type": "execute_result"
    }
   ],
   "source": [
    "np.ones(3)"
   ]
  },
  {
   "cell_type": "code",
   "execution_count": 13,
   "id": "59cbfb93",
   "metadata": {},
   "outputs": [
    {
     "data": {
      "text/plain": [
       "array([[1., 1., 1., 1., 1., 1., 1.],\n",
       "       [1., 1., 1., 1., 1., 1., 1.],\n",
       "       [1., 1., 1., 1., 1., 1., 1.],\n",
       "       [1., 1., 1., 1., 1., 1., 1.],\n",
       "       [1., 1., 1., 1., 1., 1., 1.]])"
      ]
     },
     "execution_count": 13,
     "metadata": {},
     "output_type": "execute_result"
    }
   ],
   "source": [
    "np.ones((5,7))"
   ]
  },
  {
   "cell_type": "code",
   "execution_count": 14,
   "id": "d4975d72",
   "metadata": {},
   "outputs": [
    {
     "data": {
      "text/plain": [
       "array([0.        , 0.01265823, 0.02531646, 0.03797468, 0.05063291,\n",
       "       0.06329114, 0.07594937, 0.08860759, 0.10126582, 0.11392405,\n",
       "       0.12658228, 0.13924051, 0.15189873, 0.16455696, 0.17721519,\n",
       "       0.18987342, 0.20253165, 0.21518987, 0.2278481 , 0.24050633,\n",
       "       0.25316456, 0.26582278, 0.27848101, 0.29113924, 0.30379747,\n",
       "       0.3164557 , 0.32911392, 0.34177215, 0.35443038, 0.36708861,\n",
       "       0.37974684, 0.39240506, 0.40506329, 0.41772152, 0.43037975,\n",
       "       0.44303797, 0.4556962 , 0.46835443, 0.48101266, 0.49367089,\n",
       "       0.50632911, 0.51898734, 0.53164557, 0.5443038 , 0.55696203,\n",
       "       0.56962025, 0.58227848, 0.59493671, 0.60759494, 0.62025316,\n",
       "       0.63291139, 0.64556962, 0.65822785, 0.67088608, 0.6835443 ,\n",
       "       0.69620253, 0.70886076, 0.72151899, 0.73417722, 0.74683544,\n",
       "       0.75949367, 0.7721519 , 0.78481013, 0.79746835, 0.81012658,\n",
       "       0.82278481, 0.83544304, 0.84810127, 0.86075949, 0.87341772,\n",
       "       0.88607595, 0.89873418, 0.91139241, 0.92405063, 0.93670886,\n",
       "       0.94936709, 0.96202532, 0.97468354, 0.98734177, 1.        ])"
      ]
     },
     "execution_count": 14,
     "metadata": {},
     "output_type": "execute_result"
    }
   ],
   "source": [
    "np.linspace(0,1,80)"
   ]
  },
  {
   "cell_type": "code",
   "execution_count": 15,
   "id": "e98040bf",
   "metadata": {},
   "outputs": [
    {
     "data": {
      "text/plain": [
       "array([[1., 0., 0., 0., 0., 0., 0., 0.],\n",
       "       [0., 1., 0., 0., 0., 0., 0., 0.],\n",
       "       [0., 0., 1., 0., 0., 0., 0., 0.],\n",
       "       [0., 0., 0., 1., 0., 0., 0., 0.],\n",
       "       [0., 0., 0., 0., 1., 0., 0., 0.],\n",
       "       [0., 0., 0., 0., 0., 1., 0., 0.],\n",
       "       [0., 0., 0., 0., 0., 0., 1., 0.],\n",
       "       [0., 0., 0., 0., 0., 0., 0., 1.]])"
      ]
     },
     "execution_count": 15,
     "metadata": {},
     "output_type": "execute_result"
    }
   ],
   "source": [
    "np.eye(8)"
   ]
  },
  {
   "cell_type": "code",
   "execution_count": 16,
   "id": "c91d7191",
   "metadata": {},
   "outputs": [
    {
     "data": {
      "text/plain": [
       "array([0.22143321, 0.40448652, 0.80846589, 0.41432331])"
      ]
     },
     "execution_count": 16,
     "metadata": {},
     "output_type": "execute_result"
    }
   ],
   "source": [
    "# its default is between 0,1\n",
    "# uniform distribution\n",
    "np.random.rand(4)"
   ]
  },
  {
   "cell_type": "code",
   "execution_count": 17,
   "id": "a62ca60b",
   "metadata": {},
   "outputs": [
    {
     "data": {
      "text/plain": [
       "array([[0.69070769, 0.35288262, 0.20140156, 0.8904328 , 0.11553561],\n",
       "       [0.55797838, 0.76943611, 0.00401007, 0.17431449, 0.37616698],\n",
       "       [0.24484281, 0.96666051, 0.60962209, 0.13171385, 0.10057438],\n",
       "       [0.5541841 , 0.26170368, 0.54019859, 0.15729757, 0.52188064]])"
      ]
     },
     "execution_count": 17,
     "metadata": {},
     "output_type": "execute_result"
    }
   ],
   "source": [
    "np.random.rand(4,5)"
   ]
  },
  {
   "cell_type": "code",
   "execution_count": 18,
   "id": "d7994a8b",
   "metadata": {},
   "outputs": [
    {
     "data": {
      "text/plain": [
       "array([-0.6177929 , -1.25748859, -2.07970764, -0.03609292])"
      ]
     },
     "execution_count": 18,
     "metadata": {},
     "output_type": "execute_result"
    }
   ],
   "source": [
    "# Normal distribution, also known as the Gaussian distribution\n",
    "np.random.randn(4)"
   ]
  },
  {
   "cell_type": "code",
   "execution_count": 19,
   "id": "06a2797d",
   "metadata": {},
   "outputs": [
    {
     "data": {
      "text/plain": [
       "array([[ 0.69789382, -1.2465013 ,  1.17901675,  0.1657883 ,  0.51392474],\n",
       "       [-0.42573149,  1.39261506,  0.93499075, -1.53086592, -0.79498955],\n",
       "       [ 0.35058669,  0.52535497, -0.38696735,  0.19571883, -1.26059211],\n",
       "       [ 1.51269744, -0.81690238,  0.47157802,  1.25909658,  1.60331922]])"
      ]
     },
     "execution_count": 19,
     "metadata": {},
     "output_type": "execute_result"
    }
   ],
   "source": [
    "np.random.randn(4,5)"
   ]
  },
  {
   "cell_type": "code",
   "execution_count": 20,
   "id": "5feb2fba",
   "metadata": {},
   "outputs": [
    {
     "data": {
      "text/plain": [
       "array([78, 20, 68, 58, 65, 61, 37, 43, 11, 30,  8, 31, 44, 23, 38, 64, 89,\n",
       "       95, 58, 36,  7, 63, 29,  9, 57, 22, 29, 41, 12, 42, 20, 43, 52, 52,\n",
       "       99, 57, 39, 16, 17, 10])"
      ]
     },
     "execution_count": 20,
     "metadata": {},
     "output_type": "execute_result"
    }
   ],
   "source": [
    "np.random.randint(0,100,40)"
   ]
  },
  {
   "cell_type": "code",
   "execution_count": 21,
   "id": "23d9c80d",
   "metadata": {},
   "outputs": [],
   "source": [
    "randomArray = np.random.randn(10,2)"
   ]
  },
  {
   "cell_type": "code",
   "execution_count": 22,
   "id": "b7f537ee",
   "metadata": {},
   "outputs": [
    {
     "data": {
      "text/plain": [
       "array([[-0.95877073, -2.26547785],\n",
       "       [-0.44804192, -0.4667143 ],\n",
       "       [-0.37110581,  1.77398327],\n",
       "       [-0.82007712,  2.08916046],\n",
       "       [ 0.99362305,  1.09443321],\n",
       "       [-0.64298399,  0.14825039],\n",
       "       [-1.41870629, -2.02941361],\n",
       "       [ 0.75869461, -1.60739679],\n",
       "       [-1.04767542, -0.04110562],\n",
       "       [-0.13945136, -0.56898807]])"
      ]
     },
     "execution_count": 22,
     "metadata": {},
     "output_type": "execute_result"
    }
   ],
   "source": [
    "randomArray\n"
   ]
  },
  {
   "cell_type": "code",
   "execution_count": 23,
   "id": "a6efeac0",
   "metadata": {},
   "outputs": [
    {
     "data": {
      "text/plain": [
       "array([[-0.95877073, -2.26547785, -0.44804192, -0.4667143 , -0.37110581],\n",
       "       [ 1.77398327, -0.82007712,  2.08916046,  0.99362305,  1.09443321],\n",
       "       [-0.64298399,  0.14825039, -1.41870629, -2.02941361,  0.75869461],\n",
       "       [-1.60739679, -1.04767542, -0.04110562, -0.13945136, -0.56898807]])"
      ]
     },
     "execution_count": 23,
     "metadata": {},
     "output_type": "execute_result"
    }
   ],
   "source": [
    "randomArray.reshape(4,5)"
   ]
  },
  {
   "cell_type": "code",
   "execution_count": 24,
   "id": "10d050fc",
   "metadata": {},
   "outputs": [
    {
     "data": {
      "text/plain": [
       "array([[-0.95877073, -2.26547785, -0.44804192, -0.4667143 ],\n",
       "       [-0.37110581,  1.77398327, -0.82007712,  2.08916046],\n",
       "       [ 0.99362305,  1.09443321, -0.64298399,  0.14825039],\n",
       "       [-1.41870629, -2.02941361,  0.75869461, -1.60739679],\n",
       "       [-1.04767542, -0.04110562, -0.13945136, -0.56898807]])"
      ]
     },
     "execution_count": 24,
     "metadata": {},
     "output_type": "execute_result"
    }
   ],
   "source": [
    "randomArray.reshape(5,4)"
   ]
  },
  {
   "cell_type": "code",
   "execution_count": 25,
   "id": "84cd1808",
   "metadata": {},
   "outputs": [
    {
     "data": {
      "text/plain": [
       "(10, 2)"
      ]
     },
     "execution_count": 25,
     "metadata": {},
     "output_type": "execute_result"
    }
   ],
   "source": [
    "randomArray.shape"
   ]
  },
  {
   "cell_type": "code",
   "execution_count": 26,
   "id": "211d5ce8",
   "metadata": {},
   "outputs": [],
   "source": [
    "randomArray = randomArray.reshape(4,5)"
   ]
  },
  {
   "cell_type": "code",
   "execution_count": 27,
   "id": "b25b98df",
   "metadata": {},
   "outputs": [
    {
     "data": {
      "text/plain": [
       "array([[-0.95877073, -2.26547785, -0.44804192, -0.4667143 , -0.37110581],\n",
       "       [ 1.77398327, -0.82007712,  2.08916046,  0.99362305,  1.09443321],\n",
       "       [-0.64298399,  0.14825039, -1.41870629, -2.02941361,  0.75869461],\n",
       "       [-1.60739679, -1.04767542, -0.04110562, -0.13945136, -0.56898807]])"
      ]
     },
     "execution_count": 27,
     "metadata": {},
     "output_type": "execute_result"
    }
   ],
   "source": [
    "randomArray"
   ]
  },
  {
   "cell_type": "code",
   "execution_count": 28,
   "id": "16d6f080",
   "metadata": {},
   "outputs": [
    {
     "data": {
      "text/plain": [
       "(4, 5)"
      ]
     },
     "execution_count": 28,
     "metadata": {},
     "output_type": "execute_result"
    }
   ],
   "source": [
    "randomArray.shape\n"
   ]
  },
  {
   "cell_type": "code",
   "execution_count": 29,
   "id": "14e76f22",
   "metadata": {},
   "outputs": [
    {
     "data": {
      "text/plain": [
       "2.089160455386657"
      ]
     },
     "execution_count": 29,
     "metadata": {},
     "output_type": "execute_result"
    }
   ],
   "source": [
    "randomArray.max()"
   ]
  },
  {
   "cell_type": "code",
   "execution_count": 30,
   "id": "407b3f73",
   "metadata": {},
   "outputs": [
    {
     "data": {
      "text/plain": [
       "7"
      ]
     },
     "execution_count": 30,
     "metadata": {},
     "output_type": "execute_result"
    }
   ],
   "source": [
    "randomArray.argmax()"
   ]
  },
  {
   "cell_type": "code",
   "execution_count": 31,
   "id": "7e933c5c",
   "metadata": {},
   "outputs": [
    {
     "data": {
      "text/plain": [
       "-2.2654778462996976"
      ]
     },
     "execution_count": 31,
     "metadata": {},
     "output_type": "execute_result"
    }
   ],
   "source": [
    "randomArray.min()"
   ]
  },
  {
   "cell_type": "code",
   "execution_count": 32,
   "id": "a030d3c0",
   "metadata": {},
   "outputs": [
    {
     "data": {
      "text/plain": [
       "<function ndarray.argmin>"
      ]
     },
     "execution_count": 32,
     "metadata": {},
     "output_type": "execute_result"
    }
   ],
   "source": [
    "randomArray.argmin"
   ]
  },
  {
   "cell_type": "code",
   "execution_count": 67,
   "id": "bc31a9d9",
   "metadata": {},
   "outputs": [
    {
     "data": {
      "text/plain": [
       "dtype('float64')"
      ]
     },
     "execution_count": 67,
     "metadata": {},
     "output_type": "execute_result"
    }
   ],
   "source": [
    "randomArray.dtype"
   ]
  },
  {
   "cell_type": "code",
   "execution_count": null,
   "id": "fe4c6551",
   "metadata": {},
   "outputs": [],
   "source": []
  },
  {
   "cell_type": "code",
   "execution_count": null,
   "id": "20f9d562",
   "metadata": {},
   "outputs": [],
   "source": []
  }
 ],
 "metadata": {
  "kernelspec": {
   "display_name": "Python 3 (ipykernel)",
   "language": "python",
   "name": "python3"
  },
  "language_info": {
   "codemirror_mode": {
    "name": "ipython",
    "version": 3
   },
   "file_extension": ".py",
   "mimetype": "text/x-python",
   "name": "python",
   "nbconvert_exporter": "python",
   "pygments_lexer": "ipython3",
   "version": "3.10.4"
  }
 },
 "nbformat": 4,
 "nbformat_minor": 5
}
