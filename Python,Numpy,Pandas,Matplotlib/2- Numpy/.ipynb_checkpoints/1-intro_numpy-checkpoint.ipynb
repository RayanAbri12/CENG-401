{
 "cells": [
  {
   "cell_type": "markdown",
   "id": "3a5d8d5d",
   "metadata": {},
   "source": [
    "# Numpy\n",
    "\n",
    "NumPy (or Numpy) is a Linear Algebra Library for Python, the reason it is so important for Data Science with Python is that almost all of the libraries in the PyData Ecosystem rely on NumPy as one of their main building blocks.\n",
    "\n",
    "\n",
    "conda install numpy \n",
    "pip install numpy\n",
    "\n",
    "Numpy is also incredibly fast, as it has bindings to C libraries\n",
    "\n",
    "Numpy has many built-in functions and capabilities. We won't cover them all but instead we will focus on some of the most important aspects of Numpy: vectors,arrays,matrices, and number generation. Let's start by discussing arrays.\n",
    "\n",
    "# Numpy Arrays\n",
    "\n",
    "NumPy arrays are the main way we will use Numpy throughout the course. Numpy arrays essentially come in two flavors: vectors and matrices. Vectors are strictly 1-d arrays and matrices are 2-d (but you should note a matrix can still have only one row or one column).\n",
    "\n",
    "Let's begin our introduction by exploring how to create NumPy arrays.\n",
    "\n",
    "## Creating NumPy Arrays\n",
    "\n",
    "### From a Python List\n",
    "\n",
    "We can create an array by directly converting a list or list of lists:\n",
    "\n",
    "Cover toplics:\n",
    "\n",
    "* np.array\n",
    "* np.arange(start,end,stepsize)\n",
    "* np.zeros(count)\n",
    "* np.ones(count)\n",
    "* np.linspace(start,end,spacepoint)\n",
    "* np.eye(count) //diagnols of ones\n",
    "* np.random.rand(count) //uniform distrubution\n",
    "* np.random.randn(count) // Gaussian distribution]\n",
    "* np.random.randint(start,end,count)\n",
    "* arr.shape\n",
    "* arr.reshape(2,2)\n",
    "* arr.max()\n",
    "* arr.argmax()\n",
    "* arr.dtype\n",
    "\n",
    "\n",
    "\n",
    "\n",
    "\n"
   ]
  },
  {
   "cell_type": "code",
   "execution_count": 35,
   "id": "d7f399b2",
   "metadata": {},
   "outputs": [],
   "source": [
    "_list = [1,2,3,4,5,6,7]"
   ]
  },
  {
   "cell_type": "code",
   "execution_count": 36,
   "id": "001912ba",
   "metadata": {},
   "outputs": [],
   "source": [
    " import numpy as np"
   ]
  },
  {
   "cell_type": "code",
   "execution_count": 37,
   "id": "00c31092",
   "metadata": {},
   "outputs": [],
   "source": [
    "arr = np.array(_list)"
   ]
  },
  {
   "cell_type": "code",
   "execution_count": 38,
   "id": "50fbb400",
   "metadata": {},
   "outputs": [
    {
     "data": {
      "text/plain": [
       "array([1, 2, 3, 4, 5, 6, 7])"
      ]
     },
     "execution_count": 38,
     "metadata": {},
     "output_type": "execute_result"
    }
   ],
   "source": [
    "arr"
   ]
  },
  {
   "cell_type": "code",
   "execution_count": 39,
   "id": "727741be",
   "metadata": {},
   "outputs": [],
   "source": [
    "_list = [[1,2,3],[4,5,6],[8,3,2]]"
   ]
  },
  {
   "cell_type": "code",
   "execution_count": 40,
   "id": "19507ee9",
   "metadata": {},
   "outputs": [],
   "source": [
    "arr = np.array(_list)"
   ]
  },
  {
   "cell_type": "code",
   "execution_count": 41,
   "id": "0ec5a387",
   "metadata": {},
   "outputs": [
    {
     "data": {
      "text/plain": [
       "array([[1, 2, 3],\n",
       "       [4, 5, 6],\n",
       "       [8, 3, 2]])"
      ]
     },
     "execution_count": 41,
     "metadata": {},
     "output_type": "execute_result"
    }
   ],
   "source": [
    "arr"
   ]
  },
  {
   "cell_type": "code",
   "execution_count": 42,
   "id": "74bd0351",
   "metadata": {},
   "outputs": [
    {
     "data": {
      "text/plain": [
       "array([ 1,  2,  3,  4,  5,  6,  7,  8,  9, 10])"
      ]
     },
     "execution_count": 42,
     "metadata": {},
     "output_type": "execute_result"
    }
   ],
   "source": [
    "np.arange(1,11)"
   ]
  },
  {
   "cell_type": "code",
   "execution_count": 43,
   "id": "891a3275",
   "metadata": {},
   "outputs": [
    {
     "data": {
      "text/plain": [
       "array([ 1,  4,  7, 10])"
      ]
     },
     "execution_count": 43,
     "metadata": {},
     "output_type": "execute_result"
    }
   ],
   "source": [
    "#third param is step size\n",
    "np.arange(1,11,3)"
   ]
  },
  {
   "cell_type": "code",
   "execution_count": 44,
   "id": "a617a629",
   "metadata": {},
   "outputs": [
    {
     "data": {
      "text/plain": [
       "array([0., 0., 0.])"
      ]
     },
     "execution_count": 44,
     "metadata": {},
     "output_type": "execute_result"
    }
   ],
   "source": [
    "np.zeros(3)"
   ]
  },
  {
   "cell_type": "code",
   "execution_count": 45,
   "id": "e621ecfe",
   "metadata": {},
   "outputs": [
    {
     "data": {
      "text/plain": [
       "array([[0., 0., 0., 0.],\n",
       "       [0., 0., 0., 0.],\n",
       "       [0., 0., 0., 0.]])"
      ]
     },
     "execution_count": 45,
     "metadata": {},
     "output_type": "execute_result"
    }
   ],
   "source": [
    "np.zeros((3,4))"
   ]
  },
  {
   "cell_type": "code",
   "execution_count": 46,
   "id": "3392fece",
   "metadata": {},
   "outputs": [
    {
     "data": {
      "text/plain": [
       "array([1., 1., 1.])"
      ]
     },
     "execution_count": 46,
     "metadata": {},
     "output_type": "execute_result"
    }
   ],
   "source": [
    "np.ones(3)"
   ]
  },
  {
   "cell_type": "code",
   "execution_count": 47,
   "id": "59cbfb93",
   "metadata": {},
   "outputs": [
    {
     "data": {
      "text/plain": [
       "array([[1., 1., 1., 1., 1., 1., 1.],\n",
       "       [1., 1., 1., 1., 1., 1., 1.],\n",
       "       [1., 1., 1., 1., 1., 1., 1.],\n",
       "       [1., 1., 1., 1., 1., 1., 1.],\n",
       "       [1., 1., 1., 1., 1., 1., 1.]])"
      ]
     },
     "execution_count": 47,
     "metadata": {},
     "output_type": "execute_result"
    }
   ],
   "source": [
    "np.ones((5,7))"
   ]
  },
  {
   "cell_type": "code",
   "execution_count": 48,
   "id": "d4975d72",
   "metadata": {},
   "outputs": [
    {
     "data": {
      "text/plain": [
       "array([0.        , 0.01265823, 0.02531646, 0.03797468, 0.05063291,\n",
       "       0.06329114, 0.07594937, 0.08860759, 0.10126582, 0.11392405,\n",
       "       0.12658228, 0.13924051, 0.15189873, 0.16455696, 0.17721519,\n",
       "       0.18987342, 0.20253165, 0.21518987, 0.2278481 , 0.24050633,\n",
       "       0.25316456, 0.26582278, 0.27848101, 0.29113924, 0.30379747,\n",
       "       0.3164557 , 0.32911392, 0.34177215, 0.35443038, 0.36708861,\n",
       "       0.37974684, 0.39240506, 0.40506329, 0.41772152, 0.43037975,\n",
       "       0.44303797, 0.4556962 , 0.46835443, 0.48101266, 0.49367089,\n",
       "       0.50632911, 0.51898734, 0.53164557, 0.5443038 , 0.55696203,\n",
       "       0.56962025, 0.58227848, 0.59493671, 0.60759494, 0.62025316,\n",
       "       0.63291139, 0.64556962, 0.65822785, 0.67088608, 0.6835443 ,\n",
       "       0.69620253, 0.70886076, 0.72151899, 0.73417722, 0.74683544,\n",
       "       0.75949367, 0.7721519 , 0.78481013, 0.79746835, 0.81012658,\n",
       "       0.82278481, 0.83544304, 0.84810127, 0.86075949, 0.87341772,\n",
       "       0.88607595, 0.89873418, 0.91139241, 0.92405063, 0.93670886,\n",
       "       0.94936709, 0.96202532, 0.97468354, 0.98734177, 1.        ])"
      ]
     },
     "execution_count": 48,
     "metadata": {},
     "output_type": "execute_result"
    }
   ],
   "source": [
    "np.linspace(0,1,80)"
   ]
  },
  {
   "cell_type": "code",
   "execution_count": 49,
   "id": "e98040bf",
   "metadata": {},
   "outputs": [
    {
     "data": {
      "text/plain": [
       "array([[1., 0., 0., 0., 0., 0., 0., 0.],\n",
       "       [0., 1., 0., 0., 0., 0., 0., 0.],\n",
       "       [0., 0., 1., 0., 0., 0., 0., 0.],\n",
       "       [0., 0., 0., 1., 0., 0., 0., 0.],\n",
       "       [0., 0., 0., 0., 1., 0., 0., 0.],\n",
       "       [0., 0., 0., 0., 0., 1., 0., 0.],\n",
       "       [0., 0., 0., 0., 0., 0., 1., 0.],\n",
       "       [0., 0., 0., 0., 0., 0., 0., 1.]])"
      ]
     },
     "execution_count": 49,
     "metadata": {},
     "output_type": "execute_result"
    }
   ],
   "source": [
    "np.eye(8)"
   ]
  },
  {
   "cell_type": "code",
   "execution_count": 50,
   "id": "c91d7191",
   "metadata": {},
   "outputs": [
    {
     "data": {
      "text/plain": [
       "array([0.26323755, 0.73490885, 0.93780012, 0.01836518])"
      ]
     },
     "execution_count": 50,
     "metadata": {},
     "output_type": "execute_result"
    }
   ],
   "source": [
    "# its default is between 0,1\n",
    "# uniform distribution\n",
    "np.random.rand(4)"
   ]
  },
  {
   "cell_type": "code",
   "execution_count": 51,
   "id": "a62ca60b",
   "metadata": {},
   "outputs": [
    {
     "data": {
      "text/plain": [
       "array([[0.63829606, 0.91751696, 0.6207442 , 0.25495874, 0.21032578],\n",
       "       [0.9807002 , 0.70176956, 0.43268913, 0.10078579, 0.90627118],\n",
       "       [0.99071127, 0.74615914, 0.30484582, 0.56516215, 0.05209665],\n",
       "       [0.66631749, 0.20374194, 0.50966565, 0.33088526, 0.86110398]])"
      ]
     },
     "execution_count": 51,
     "metadata": {},
     "output_type": "execute_result"
    }
   ],
   "source": [
    "np.random.rand(4,5)"
   ]
  },
  {
   "cell_type": "code",
   "execution_count": 52,
   "id": "d7994a8b",
   "metadata": {},
   "outputs": [
    {
     "data": {
      "text/plain": [
       "array([ 1.55053432,  0.47508738,  0.51266886, -0.16337821])"
      ]
     },
     "execution_count": 52,
     "metadata": {},
     "output_type": "execute_result"
    }
   ],
   "source": [
    "# Normal distribution, also known as the Gaussian distribution\n",
    "np.random.randn(4)"
   ]
  },
  {
   "cell_type": "code",
   "execution_count": 53,
   "id": "06a2797d",
   "metadata": {},
   "outputs": [
    {
     "data": {
      "text/plain": [
       "array([[ 0.992654  , -1.04591544,  1.10655776, -0.57446388,  0.0575476 ],\n",
       "       [-0.14373791,  0.21511196, -0.97310425, -0.23042163, -1.34450805],\n",
       "       [-0.04185711, -0.58042981, -1.21936279,  0.6876245 , -0.02577635],\n",
       "       [ 0.12843879,  0.54365299,  1.33979008,  0.12110001,  0.65256356]])"
      ]
     },
     "execution_count": 53,
     "metadata": {},
     "output_type": "execute_result"
    }
   ],
   "source": [
    "np.random.randn(4,5)"
   ]
  },
  {
   "cell_type": "code",
   "execution_count": 54,
   "id": "5feb2fba",
   "metadata": {},
   "outputs": [
    {
     "data": {
      "text/plain": [
       "array([28,  9, 65, 90, 85,  3, 85, 67, 58, 33, 12, 39,  2,  3, 95, 32, 29,\n",
       "       98, 40, 75, 16,  9,  3, 94, 58, 66, 92, 55, 75, 32, 29, 18,  8, 32,\n",
       "       39, 54, 49, 76, 84, 49])"
      ]
     },
     "execution_count": 54,
     "metadata": {},
     "output_type": "execute_result"
    }
   ],
   "source": [
    "np.random.randint(0,100,40)"
   ]
  },
  {
   "cell_type": "code",
   "execution_count": 55,
   "id": "23d9c80d",
   "metadata": {},
   "outputs": [],
   "source": [
    "randomArray = np.random.randn(10,2)"
   ]
  },
  {
   "cell_type": "code",
   "execution_count": 56,
   "id": "b7f537ee",
   "metadata": {},
   "outputs": [
    {
     "data": {
      "text/plain": [
       "array([[ 0.7852872 ,  1.31072025],\n",
       "       [ 0.65838869,  0.09499983],\n",
       "       [ 0.87234116,  0.80768067],\n",
       "       [ 0.62820323, -1.19464074],\n",
       "       [ 0.5391195 ,  1.12530049],\n",
       "       [ 2.60572506, -0.59925912],\n",
       "       [ 2.16542541,  1.51619862],\n",
       "       [ 0.80831779, -0.51145005],\n",
       "       [ 2.09525674, -0.22847137],\n",
       "       [-0.82020763,  1.39439272]])"
      ]
     },
     "execution_count": 56,
     "metadata": {},
     "output_type": "execute_result"
    }
   ],
   "source": [
    "randomArray\n"
   ]
  },
  {
   "cell_type": "code",
   "execution_count": 57,
   "id": "a6efeac0",
   "metadata": {},
   "outputs": [
    {
     "data": {
      "text/plain": [
       "array([[ 0.7852872 ,  1.31072025,  0.65838869,  0.09499983,  0.87234116],\n",
       "       [ 0.80768067,  0.62820323, -1.19464074,  0.5391195 ,  1.12530049],\n",
       "       [ 2.60572506, -0.59925912,  2.16542541,  1.51619862,  0.80831779],\n",
       "       [-0.51145005,  2.09525674, -0.22847137, -0.82020763,  1.39439272]])"
      ]
     },
     "execution_count": 57,
     "metadata": {},
     "output_type": "execute_result"
    }
   ],
   "source": [
    "randomArray.reshape(4,5)"
   ]
  },
  {
   "cell_type": "code",
   "execution_count": 58,
   "id": "10d050fc",
   "metadata": {},
   "outputs": [
    {
     "data": {
      "text/plain": [
       "array([[ 0.7852872 ,  1.31072025,  0.65838869,  0.09499983],\n",
       "       [ 0.87234116,  0.80768067,  0.62820323, -1.19464074],\n",
       "       [ 0.5391195 ,  1.12530049,  2.60572506, -0.59925912],\n",
       "       [ 2.16542541,  1.51619862,  0.80831779, -0.51145005],\n",
       "       [ 2.09525674, -0.22847137, -0.82020763,  1.39439272]])"
      ]
     },
     "execution_count": 58,
     "metadata": {},
     "output_type": "execute_result"
    }
   ],
   "source": [
    "randomArray.reshape(5,4)"
   ]
  },
  {
   "cell_type": "code",
   "execution_count": 59,
   "id": "84cd1808",
   "metadata": {},
   "outputs": [
    {
     "data": {
      "text/plain": [
       "(10, 2)"
      ]
     },
     "execution_count": 59,
     "metadata": {},
     "output_type": "execute_result"
    }
   ],
   "source": [
    "randomArray.shape"
   ]
  },
  {
   "cell_type": "code",
   "execution_count": 60,
   "id": "211d5ce8",
   "metadata": {},
   "outputs": [],
   "source": [
    "randomArray = randomArray.reshape(4,5)"
   ]
  },
  {
   "cell_type": "code",
   "execution_count": 61,
   "id": "b25b98df",
   "metadata": {},
   "outputs": [
    {
     "data": {
      "text/plain": [
       "array([[ 0.7852872 ,  1.31072025,  0.65838869,  0.09499983,  0.87234116],\n",
       "       [ 0.80768067,  0.62820323, -1.19464074,  0.5391195 ,  1.12530049],\n",
       "       [ 2.60572506, -0.59925912,  2.16542541,  1.51619862,  0.80831779],\n",
       "       [-0.51145005,  2.09525674, -0.22847137, -0.82020763,  1.39439272]])"
      ]
     },
     "execution_count": 61,
     "metadata": {},
     "output_type": "execute_result"
    }
   ],
   "source": [
    "randomArray"
   ]
  },
  {
   "cell_type": "code",
   "execution_count": 62,
   "id": "16d6f080",
   "metadata": {},
   "outputs": [
    {
     "data": {
      "text/plain": [
       "(4, 5)"
      ]
     },
     "execution_count": 62,
     "metadata": {},
     "output_type": "execute_result"
    }
   ],
   "source": [
    "randomArray.shape\n"
   ]
  },
  {
   "cell_type": "code",
   "execution_count": 63,
   "id": "14e76f22",
   "metadata": {},
   "outputs": [
    {
     "data": {
      "text/plain": [
       "2.605725058794094"
      ]
     },
     "execution_count": 63,
     "metadata": {},
     "output_type": "execute_result"
    }
   ],
   "source": [
    "randomArray.max()"
   ]
  },
  {
   "cell_type": "code",
   "execution_count": 64,
   "id": "407b3f73",
   "metadata": {},
   "outputs": [
    {
     "data": {
      "text/plain": [
       "10"
      ]
     },
     "execution_count": 64,
     "metadata": {},
     "output_type": "execute_result"
    }
   ],
   "source": [
    "randomArray.argmax()"
   ]
  },
  {
   "cell_type": "code",
   "execution_count": 65,
   "id": "7e933c5c",
   "metadata": {},
   "outputs": [
    {
     "data": {
      "text/plain": [
       "-1.1946407374031762"
      ]
     },
     "execution_count": 65,
     "metadata": {},
     "output_type": "execute_result"
    }
   ],
   "source": [
    "randomArray.min()"
   ]
  },
  {
   "cell_type": "code",
   "execution_count": 66,
   "id": "a030d3c0",
   "metadata": {},
   "outputs": [
    {
     "data": {
      "text/plain": [
       "<function ndarray.argmin>"
      ]
     },
     "execution_count": 66,
     "metadata": {},
     "output_type": "execute_result"
    }
   ],
   "source": [
    "randomArray.argmin"
   ]
  },
  {
   "cell_type": "code",
   "execution_count": 67,
   "id": "bc31a9d9",
   "metadata": {},
   "outputs": [
    {
     "data": {
      "text/plain": [
       "dtype('float64')"
      ]
     },
     "execution_count": 67,
     "metadata": {},
     "output_type": "execute_result"
    }
   ],
   "source": [
    "randomArray.dtype"
   ]
  },
  {
   "cell_type": "code",
   "execution_count": null,
   "id": "fe4c6551",
   "metadata": {},
   "outputs": [],
   "source": []
  },
  {
   "cell_type": "code",
   "execution_count": null,
   "id": "20f9d562",
   "metadata": {},
   "outputs": [],
   "source": []
  }
 ],
 "metadata": {
  "kernelspec": {
   "display_name": "Python 3 (ipykernel)",
   "language": "python",
   "name": "python3"
  },
  "language_info": {
   "codemirror_mode": {
    "name": "ipython",
    "version": 3
   },
   "file_extension": ".py",
   "mimetype": "text/x-python",
   "name": "python",
   "nbconvert_exporter": "python",
   "pygments_lexer": "ipython3",
   "version": "3.8.12"
  }
 },
 "nbformat": 4,
 "nbformat_minor": 5
}
