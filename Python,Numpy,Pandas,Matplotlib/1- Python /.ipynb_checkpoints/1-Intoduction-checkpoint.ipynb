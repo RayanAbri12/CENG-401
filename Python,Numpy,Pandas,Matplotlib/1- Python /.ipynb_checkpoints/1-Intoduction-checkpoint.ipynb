{
 "cells": [
  {
   "cell_type": "markdown",
   "id": "9486cc4d",
   "metadata": {},
   "source": [
    "# Introduction of Python"
   ]
  },
  {
   "cell_type": "markdown",
   "id": "e0b2498b",
   "metadata": {},
   "source": [
    "This notebook will just go through the basic topics in order:\n",
    "\n",
    "* Data types\n",
    "    * Numbers\n",
    "    * Strings\n",
    "    * Printing\n",
    "    * Lists\n",
    "    * Dictionaries\n",
    "    * Booleans\n",
    "    * Tuples\n",
    "    * Sets"
   ]
  },
  {
   "cell_type": "markdown",
   "id": "42542854",
   "metadata": {},
   "source": [
    "# Data types\n",
    "# Numbers"
   ]
  },
  {
   "cell_type": "code",
   "execution_count": 1,
   "id": "f447e9a3",
   "metadata": {},
   "outputs": [
    {
     "data": {
      "text/plain": [
       "4"
      ]
     },
     "execution_count": 1,
     "metadata": {},
     "output_type": "execute_result"
    }
   ],
   "source": [
    "4"
   ]
  },
  {
   "cell_type": "code",
   "execution_count": 2,
   "id": "c7a271d9",
   "metadata": {},
   "outputs": [
    {
     "data": {
      "text/plain": [
       "59.7"
      ]
     },
     "execution_count": 2,
     "metadata": {},
     "output_type": "execute_result"
    }
   ],
   "source": [
    "59.7\n"
   ]
  },
  {
   "cell_type": "code",
   "execution_count": 3,
   "id": "6433df00",
   "metadata": {},
   "outputs": [
    {
     "data": {
      "text/plain": [
       "1.0"
      ]
     },
     "execution_count": 3,
     "metadata": {},
     "output_type": "execute_result"
    }
   ],
   "source": [
    "1/1"
   ]
  },
  {
   "cell_type": "code",
   "execution_count": 25,
   "id": "42a373de",
   "metadata": {},
   "outputs": [
    {
     "data": {
      "text/plain": [
       "0.5"
      ]
     },
     "execution_count": 25,
     "metadata": {},
     "output_type": "execute_result"
    }
   ],
   "source": [
    "1/2"
   ]
  },
  {
   "cell_type": "code",
   "execution_count": 4,
   "id": "501200b0",
   "metadata": {},
   "outputs": [
    {
     "data": {
      "text/plain": [
       "4"
      ]
     },
     "execution_count": 4,
     "metadata": {},
     "output_type": "execute_result"
    }
   ],
   "source": [
    "2 ** 2"
   ]
  },
  {
   "cell_type": "code",
   "execution_count": 5,
   "id": "1915b3cd",
   "metadata": {},
   "outputs": [
    {
     "data": {
      "text/plain": [
       "0"
      ]
     },
     "execution_count": 5,
     "metadata": {},
     "output_type": "execute_result"
    }
   ],
   "source": [
    "4 % 2"
   ]
  },
  {
   "cell_type": "code",
   "execution_count": 6,
   "id": "98b9633f",
   "metadata": {},
   "outputs": [
    {
     "data": {
      "text/plain": [
       "1"
      ]
     },
     "execution_count": 6,
     "metadata": {},
     "output_type": "execute_result"
    }
   ],
   "source": [
    "5 % 2"
   ]
  },
  {
   "cell_type": "markdown",
   "id": "81cc3fa7",
   "metadata": {},
   "source": [
    "# Variables"
   ]
  },
  {
   "cell_type": "code",
   "execution_count": 29,
   "id": "6b6b7204",
   "metadata": {},
   "outputs": [],
   "source": [
    "x = 5\n",
    "y = 4\n",
    "# Cant start with special characters or Numbers"
   ]
  },
  {
   "cell_type": "code",
   "execution_count": 31,
   "id": "443bfa7d",
   "metadata": {},
   "outputs": [],
   "source": [
    "z = x * y"
   ]
  },
  {
   "cell_type": "code",
   "execution_count": 32,
   "id": "2e92c146",
   "metadata": {},
   "outputs": [
    {
     "data": {
      "text/plain": [
       "20"
      ]
     },
     "execution_count": 32,
     "metadata": {},
     "output_type": "execute_result"
    }
   ],
   "source": [
    "z"
   ]
  },
  {
   "cell_type": "markdown",
   "id": "206e647f",
   "metadata": {},
   "source": [
    "# String"
   ]
  },
  {
   "cell_type": "code",
   "execution_count": 8,
   "id": "c84189b2",
   "metadata": {},
   "outputs": [
    {
     "data": {
      "text/plain": [
       "'single quote'"
      ]
     },
     "execution_count": 8,
     "metadata": {},
     "output_type": "execute_result"
    }
   ],
   "source": [
    "'single quote'"
   ]
  },
  {
   "cell_type": "code",
   "execution_count": 9,
   "id": "741a2add",
   "metadata": {},
   "outputs": [
    {
     "data": {
      "text/plain": [
       "'double quote'"
      ]
     },
     "execution_count": 9,
     "metadata": {},
     "output_type": "execute_result"
    }
   ],
   "source": [
    "\"double quote\""
   ]
  },
  {
   "cell_type": "code",
   "execution_count": 10,
   "id": "c28ac5e1",
   "metadata": {},
   "outputs": [
    {
     "data": {
      "text/plain": [
       "\"I can't go\""
      ]
     },
     "execution_count": 10,
     "metadata": {},
     "output_type": "execute_result"
    }
   ],
   "source": [
    "\"I can't go\""
   ]
  },
  {
   "cell_type": "code",
   "execution_count": 12,
   "id": "332748ce",
   "metadata": {},
   "outputs": [],
   "source": [
    "Age = 35\n",
    "Name = \"Rayan\""
   ]
  },
  {
   "cell_type": "code",
   "execution_count": 13,
   "id": "3bb55c80",
   "metadata": {},
   "outputs": [
    {
     "data": {
      "text/plain": [
       "'My Name is Rayan, and I am 35 years old'"
      ]
     },
     "execution_count": 13,
     "metadata": {},
     "output_type": "execute_result"
    }
   ],
   "source": [
    "\"My Name is {}, and I am {} years old\".format(Name,Age)"
   ]
  },
  {
   "cell_type": "code",
   "execution_count": 19,
   "id": "2ef1eb2a",
   "metadata": {},
   "outputs": [
    {
     "name": "stdout",
     "output_type": "stream",
     "text": [
      "My name is Rayan, and I am 35 years old\n"
     ]
    }
   ],
   "source": [
    "print(\"My name is {one}, and I am {two} years old\".format(one=Name,two=Age))"
   ]
  },
  {
   "cell_type": "code",
   "execution_count": 20,
   "id": "124140ab",
   "metadata": {},
   "outputs": [
    {
     "data": {
      "text/plain": [
       "'y'"
      ]
     },
     "execution_count": 20,
     "metadata": {},
     "output_type": "execute_result"
    }
   ],
   "source": [
    "Name[2]"
   ]
  },
  {
   "cell_type": "code",
   "execution_count": 21,
   "id": "2d9037d0",
   "metadata": {},
   "outputs": [
    {
     "data": {
      "text/plain": [
       "'R'"
      ]
     },
     "execution_count": 21,
     "metadata": {},
     "output_type": "execute_result"
    }
   ],
   "source": [
    "Name[0]"
   ]
  },
  {
   "cell_type": "code",
   "execution_count": 22,
   "id": "638fe822",
   "metadata": {},
   "outputs": [
    {
     "data": {
      "text/plain": [
       "'Rayan'"
      ]
     },
     "execution_count": 22,
     "metadata": {},
     "output_type": "execute_result"
    }
   ],
   "source": [
    "Name[0:]"
   ]
  },
  {
   "cell_type": "code",
   "execution_count": 23,
   "id": "0f6a4a75",
   "metadata": {},
   "outputs": [
    {
     "data": {
      "text/plain": [
       "'Ray'"
      ]
     },
     "execution_count": 23,
     "metadata": {},
     "output_type": "execute_result"
    }
   ],
   "source": [
    "Name[:3]"
   ]
  },
  {
   "cell_type": "code",
   "execution_count": 24,
   "id": "0a441ada",
   "metadata": {},
   "outputs": [
    {
     "data": {
      "text/plain": [
       "'aya'"
      ]
     },
     "execution_count": 24,
     "metadata": {},
     "output_type": "execute_result"
    }
   ],
   "source": [
    "Name[1:]"
   ]
  },
  {
   "cell_type": "markdown",
   "id": "83ae3d6c",
   "metadata": {},
   "source": [
    "# Lists"
   ]
  },
  {
   "cell_type": "code",
   "execution_count": 33,
   "id": "cc59fb5b",
   "metadata": {},
   "outputs": [
    {
     "data": {
      "text/plain": [
       "[1, 2, 3, 4, 5, 6, 7, 8, 9, 10]"
      ]
     },
     "execution_count": 33,
     "metadata": {},
     "output_type": "execute_result"
    }
   ],
   "source": [
    "[1,2,3,4,5,6,7,8,9,10]"
   ]
  },
  {
   "cell_type": "code",
   "execution_count": 35,
   "id": "73918f19",
   "metadata": {},
   "outputs": [],
   "source": [
    "_list = [1,2,'Rayan',4]"
   ]
  },
  {
   "cell_type": "code",
   "execution_count": 36,
   "id": "85e5aad7",
   "metadata": {},
   "outputs": [],
   "source": [
    "_list.append(456)"
   ]
  },
  {
   "cell_type": "code",
   "execution_count": 37,
   "id": "3658c507",
   "metadata": {},
   "outputs": [
    {
     "data": {
      "text/plain": [
       "[1, 2, 'Rayan', 4, 456]"
      ]
     },
     "execution_count": 37,
     "metadata": {},
     "output_type": "execute_result"
    }
   ],
   "source": [
    "_list"
   ]
  },
  {
   "cell_type": "code",
   "execution_count": 38,
   "id": "1b28469a",
   "metadata": {},
   "outputs": [
    {
     "data": {
      "text/plain": [
       "1"
      ]
     },
     "execution_count": 38,
     "metadata": {},
     "output_type": "execute_result"
    }
   ],
   "source": [
    "_list[0]"
   ]
  },
  {
   "cell_type": "code",
   "execution_count": 39,
   "id": "7c578284",
   "metadata": {},
   "outputs": [
    {
     "data": {
      "text/plain": [
       "[2, 'Rayan']"
      ]
     },
     "execution_count": 39,
     "metadata": {},
     "output_type": "execute_result"
    }
   ],
   "source": [
    "_list[1:3]"
   ]
  },
  {
   "cell_type": "code",
   "execution_count": 40,
   "id": "ab85212e",
   "metadata": {},
   "outputs": [
    {
     "data": {
      "text/plain": [
       "[2, 'Rayan', 4]"
      ]
     },
     "execution_count": 40,
     "metadata": {},
     "output_type": "execute_result"
    }
   ],
   "source": [
    "_list[1:4]"
   ]
  },
  {
   "cell_type": "code",
   "execution_count": 41,
   "id": "33b01fe9",
   "metadata": {},
   "outputs": [],
   "source": [
    "_list[3] = 'Abri'"
   ]
  },
  {
   "cell_type": "code",
   "execution_count": 42,
   "id": "1d4222da",
   "metadata": {},
   "outputs": [
    {
     "data": {
      "text/plain": [
       "[1, 2, 'Rayan', 'Abri', 456]"
      ]
     },
     "execution_count": 42,
     "metadata": {},
     "output_type": "execute_result"
    }
   ],
   "source": [
    "_list"
   ]
  },
  {
   "cell_type": "code",
   "execution_count": 44,
   "id": "0ddcf257",
   "metadata": {},
   "outputs": [],
   "source": [
    "#nested list\n",
    "\n",
    "_list2 = [6,7,8, [1,2], 9, _list]"
   ]
  },
  {
   "cell_type": "code",
   "execution_count": 45,
   "id": "91a1792f",
   "metadata": {},
   "outputs": [
    {
     "data": {
      "text/plain": [
       "[6, 7, 8, [1, 2], 9, [1, 2, 'Rayan', 'Abri', 456]]"
      ]
     },
     "execution_count": 45,
     "metadata": {},
     "output_type": "execute_result"
    }
   ],
   "source": [
    "_list2"
   ]
  },
  {
   "cell_type": "code",
   "execution_count": 47,
   "id": "e7fc70ca",
   "metadata": {},
   "outputs": [
    {
     "data": {
      "text/plain": [
       "[1, 2]"
      ]
     },
     "execution_count": 47,
     "metadata": {},
     "output_type": "execute_result"
    }
   ],
   "source": [
    "_list2[3]"
   ]
  },
  {
   "cell_type": "code",
   "execution_count": 50,
   "id": "a15239ab",
   "metadata": {},
   "outputs": [],
   "source": [
    "_list2 = [6,7,8, [1,2,[_list]], 9]"
   ]
  },
  {
   "cell_type": "code",
   "execution_count": 51,
   "id": "e2ba8793",
   "metadata": {},
   "outputs": [
    {
     "data": {
      "text/plain": [
       "[6, 7, 8, [1, 2, [[1, 2, 'Rayan', 'Abri', 456]]], 9]"
      ]
     },
     "execution_count": 51,
     "metadata": {},
     "output_type": "execute_result"
    }
   ],
   "source": [
    "_list2"
   ]
  },
  {
   "cell_type": "code",
   "execution_count": 53,
   "id": "e099c003",
   "metadata": {},
   "outputs": [
    {
     "data": {
      "text/plain": [
       "[1, 2, [[1, 2, 'Rayan', 'Abri', 456]]]"
      ]
     },
     "execution_count": 53,
     "metadata": {},
     "output_type": "execute_result"
    }
   ],
   "source": [
    "_list2[3]"
   ]
  },
  {
   "cell_type": "code",
   "execution_count": 55,
   "id": "d12f5003",
   "metadata": {},
   "outputs": [
    {
     "data": {
      "text/plain": [
       "[[1, 2, 'Rayan', 'Abri', 456]]"
      ]
     },
     "execution_count": 55,
     "metadata": {},
     "output_type": "execute_result"
    }
   ],
   "source": [
    "_list2[3][2]"
   ]
  },
  {
   "cell_type": "markdown",
   "id": "ea114e76",
   "metadata": {},
   "source": [
    "# Dictionaries"
   ]
  },
  {
   "cell_type": "code",
   "execution_count": 97,
   "id": "545b1687",
   "metadata": {},
   "outputs": [],
   "source": [
    "# use brackets to initialize\n",
    "dict = {'key1':'val1','key2':'val2','key3':4654}"
   ]
  },
  {
   "cell_type": "code",
   "execution_count": 72,
   "id": "44c03653",
   "metadata": {},
   "outputs": [
    {
     "data": {
      "text/plain": [
       "'val2'"
      ]
     },
     "execution_count": 72,
     "metadata": {},
     "output_type": "execute_result"
    }
   ],
   "source": [
    "dict['key2']"
   ]
  },
  {
   "cell_type": "code",
   "execution_count": 73,
   "id": "6f1150a3",
   "metadata": {},
   "outputs": [
    {
     "data": {
      "text/plain": [
       "4654"
      ]
     },
     "execution_count": 73,
     "metadata": {},
     "output_type": "execute_result"
    }
   ],
   "source": [
    "dict['key3']"
   ]
  },
  {
   "cell_type": "code",
   "execution_count": 74,
   "id": "a0aa4f21",
   "metadata": {},
   "outputs": [],
   "source": [
    "dict['k4']= _list"
   ]
  },
  {
   "cell_type": "code",
   "execution_count": 75,
   "id": "cd2c39cb",
   "metadata": {},
   "outputs": [
    {
     "name": "stdout",
     "output_type": "stream",
     "text": [
      "{'key1': 'val1', 'key2': 'val2', 'key3': 4654, 'k4': [1, 2, 'Rayan', 'Abri', 456]}\n"
     ]
    }
   ],
   "source": [
    "print(dict)\n"
   ]
  },
  {
   "cell_type": "code",
   "execution_count": 76,
   "id": "de9145ce",
   "metadata": {},
   "outputs": [
    {
     "ename": "KeyError",
     "evalue": "0",
     "output_type": "error",
     "traceback": [
      "\u001b[0;31m---------------------------------------------------------------------------\u001b[0m",
      "\u001b[0;31mKeyError\u001b[0m                                  Traceback (most recent call last)",
      "\u001b[0;32m<ipython-input-76-6f3bddff36cb>\u001b[0m in \u001b[0;36m<module>\u001b[0;34m\u001b[0m\n\u001b[0;32m----> 1\u001b[0;31m \u001b[0mdict\u001b[0m\u001b[0;34m[\u001b[0m\u001b[0;36m0\u001b[0m\u001b[0;34m]\u001b[0m\u001b[0;34m\u001b[0m\u001b[0;34m\u001b[0m\u001b[0m\n\u001b[0m",
      "\u001b[0;31mKeyError\u001b[0m: 0"
     ]
    }
   ],
   "source": [
    "dict[0]"
   ]
  },
  {
   "cell_type": "code",
   "execution_count": 77,
   "id": "77184cf3",
   "metadata": {},
   "outputs": [
    {
     "data": {
      "text/plain": [
       "['Rayan', 'Abri']"
      ]
     },
     "execution_count": 77,
     "metadata": {},
     "output_type": "execute_result"
    }
   ],
   "source": [
    "dict['k4'][2:4]"
   ]
  },
  {
   "cell_type": "code",
   "execution_count": 78,
   "id": "2e6ecdf8",
   "metadata": {},
   "outputs": [],
   "source": [
    "d = {'b1':12, 22:45}"
   ]
  },
  {
   "cell_type": "code",
   "execution_count": 79,
   "id": "7655f255",
   "metadata": {},
   "outputs": [
    {
     "data": {
      "text/plain": [
       "45"
      ]
     },
     "execution_count": 79,
     "metadata": {},
     "output_type": "execute_result"
    }
   ],
   "source": [
    "d[22]"
   ]
  },
  {
   "cell_type": "code",
   "execution_count": 86,
   "id": "97a76e65",
   "metadata": {},
   "outputs": [],
   "source": [
    "#nested dictionary\n",
    "NestedDict = {'k1':{'innerKey':_list}, 'k2':{'innerkey':[1,2,3,4,5]}, 'k3':'none'}\n"
   ]
  },
  {
   "cell_type": "code",
   "execution_count": 87,
   "id": "de33139d",
   "metadata": {},
   "outputs": [
    {
     "data": {
      "text/plain": [
       "{'innerKey': [1, 2, 'Rayan', 'Abri', 456]}"
      ]
     },
     "execution_count": 87,
     "metadata": {},
     "output_type": "execute_result"
    }
   ],
   "source": [
    "NestedDict['k1']"
   ]
  },
  {
   "cell_type": "code",
   "execution_count": 88,
   "id": "107ccea4",
   "metadata": {},
   "outputs": [
    {
     "data": {
      "text/plain": [
       "[1, 2, 'Rayan', 'Abri', 456]"
      ]
     },
     "execution_count": 88,
     "metadata": {},
     "output_type": "execute_result"
    }
   ],
   "source": [
    "NestedDict['k1']['innerKey']"
   ]
  },
  {
   "cell_type": "code",
   "execution_count": 89,
   "id": "e2b819e6",
   "metadata": {},
   "outputs": [
    {
     "data": {
      "text/plain": [
       "[1, 2]"
      ]
     },
     "execution_count": 89,
     "metadata": {},
     "output_type": "execute_result"
    }
   ],
   "source": [
    "NestedDict['k1']['innerKey'][:2]"
   ]
  },
  {
   "cell_type": "markdown",
   "id": "13bee55e",
   "metadata": {},
   "source": [
    "# Booleans"
   ]
  },
  {
   "cell_type": "code",
   "execution_count": 90,
   "id": "0f7863ae",
   "metadata": {},
   "outputs": [
    {
     "data": {
      "text/plain": [
       "True"
      ]
     },
     "execution_count": 90,
     "metadata": {},
     "output_type": "execute_result"
    }
   ],
   "source": [
    "True"
   ]
  },
  {
   "cell_type": "code",
   "execution_count": 91,
   "id": "19d2544c",
   "metadata": {},
   "outputs": [
    {
     "data": {
      "text/plain": [
       "False"
      ]
     },
     "execution_count": 91,
     "metadata": {},
     "output_type": "execute_result"
    }
   ],
   "source": [
    "False"
   ]
  },
  {
   "cell_type": "markdown",
   "id": "951af546",
   "metadata": {},
   "source": [
    "# Tuples"
   ]
  },
  {
   "cell_type": "code",
   "execution_count": 92,
   "id": "72c53b9c",
   "metadata": {},
   "outputs": [
    {
     "data": {
      "text/plain": [
       "[1, 2, 'Rayan', 'Abri', 456]"
      ]
     },
     "execution_count": 92,
     "metadata": {},
     "output_type": "execute_result"
    }
   ],
   "source": [
    "_list"
   ]
  },
  {
   "cell_type": "code",
   "execution_count": 95,
   "id": "b94fc27f",
   "metadata": {},
   "outputs": [],
   "source": [
    "#update with index\n",
    "_list[0]=234"
   ]
  },
  {
   "cell_type": "code",
   "execution_count": 96,
   "id": "3dca4b20",
   "metadata": {},
   "outputs": [
    {
     "data": {
      "text/plain": [
       "[234, 2, 'Rayan', 'Abri', 456]"
      ]
     },
     "execution_count": 96,
     "metadata": {},
     "output_type": "execute_result"
    }
   ],
   "source": [
    "_list"
   ]
  },
  {
   "cell_type": "code",
   "execution_count": 98,
   "id": "4d502c46",
   "metadata": {},
   "outputs": [],
   "source": [
    "_tuples = (1,2,3,4,5)"
   ]
  },
  {
   "cell_type": "code",
   "execution_count": 99,
   "id": "dadb764a",
   "metadata": {},
   "outputs": [
    {
     "data": {
      "text/plain": [
       "1"
      ]
     },
     "execution_count": 99,
     "metadata": {},
     "output_type": "execute_result"
    }
   ],
   "source": [
    "_tuples[0]"
   ]
  },
  {
   "cell_type": "code",
   "execution_count": 101,
   "id": "36949a36",
   "metadata": {},
   "outputs": [
    {
     "ename": "TypeError",
     "evalue": "'tuple' object does not support item assignment",
     "output_type": "error",
     "traceback": [
      "\u001b[0;31m---------------------------------------------------------------------------\u001b[0m",
      "\u001b[0;31mTypeError\u001b[0m                                 Traceback (most recent call last)",
      "\u001b[0;32m<ipython-input-101-67cb2f0d712a>\u001b[0m in \u001b[0;36m<module>\u001b[0;34m\u001b[0m\n\u001b[1;32m      1\u001b[0m \u001b[0;31m# cant update with indexies\u001b[0m\u001b[0;34m\u001b[0m\u001b[0;34m\u001b[0m\u001b[0;34m\u001b[0m\u001b[0m\n\u001b[0;32m----> 2\u001b[0;31m \u001b[0m_tuples\u001b[0m\u001b[0;34m[\u001b[0m\u001b[0;36m0\u001b[0m\u001b[0;34m]\u001b[0m\u001b[0;34m=\u001b[0m\u001b[0;36m234\u001b[0m\u001b[0;34m\u001b[0m\u001b[0;34m\u001b[0m\u001b[0m\n\u001b[0m",
      "\u001b[0;31mTypeError\u001b[0m: 'tuple' object does not support item assignment"
     ]
    }
   ],
   "source": [
    "# cant update with indexies\n",
    "_tuples[0]=234"
   ]
  },
  {
   "cell_type": "markdown",
   "id": "4ae0b53a",
   "metadata": {},
   "source": [
    "# Set \n",
    "   * Set is a collection of uniqe elements\n",
    "   * initialize with brackets"
   ]
  },
  {
   "cell_type": "code",
   "execution_count": 106,
   "id": "9f40e8a3",
   "metadata": {},
   "outputs": [],
   "source": [
    "_set = {1,2,2,2,2,2,2,1,1,2,1,3,3,2,3}"
   ]
  },
  {
   "cell_type": "code",
   "execution_count": 107,
   "id": "30f05558",
   "metadata": {},
   "outputs": [
    {
     "data": {
      "text/plain": [
       "{1, 2, 3}"
      ]
     },
     "execution_count": 107,
     "metadata": {},
     "output_type": "execute_result"
    }
   ],
   "source": [
    "_set"
   ]
  },
  {
   "cell_type": "code",
   "execution_count": 108,
   "id": "391fe10c",
   "metadata": {},
   "outputs": [],
   "source": [
    "_set.add(5)"
   ]
  },
  {
   "cell_type": "code",
   "execution_count": 109,
   "id": "040c462d",
   "metadata": {},
   "outputs": [
    {
     "data": {
      "text/plain": [
       "{1, 2, 3, 5}"
      ]
     },
     "execution_count": 109,
     "metadata": {},
     "output_type": "execute_result"
    }
   ],
   "source": [
    "_set"
   ]
  },
  {
   "cell_type": "code",
   "execution_count": 110,
   "id": "869361f9",
   "metadata": {},
   "outputs": [],
   "source": [
    "_set.add(5)"
   ]
  },
  {
   "cell_type": "code",
   "execution_count": 111,
   "id": "907aa1f1",
   "metadata": {},
   "outputs": [
    {
     "data": {
      "text/plain": [
       "{1, 2, 3, 5}"
      ]
     },
     "execution_count": 111,
     "metadata": {},
     "output_type": "execute_result"
    }
   ],
   "source": [
    "_set"
   ]
  },
  {
   "cell_type": "code",
   "execution_count": null,
   "id": "0447544b",
   "metadata": {},
   "outputs": [],
   "source": []
  }
 ],
 "metadata": {
  "kernelspec": {
   "display_name": "Python 3 (ipykernel)",
   "language": "python",
   "name": "python3"
  },
  "language_info": {
   "codemirror_mode": {
    "name": "ipython",
    "version": 3
   },
   "file_extension": ".py",
   "mimetype": "text/x-python",
   "name": "python",
   "nbconvert_exporter": "python",
   "pygments_lexer": "ipython3",
   "version": "3.8.12"
  }
 },
 "nbformat": 4,
 "nbformat_minor": 5
}
