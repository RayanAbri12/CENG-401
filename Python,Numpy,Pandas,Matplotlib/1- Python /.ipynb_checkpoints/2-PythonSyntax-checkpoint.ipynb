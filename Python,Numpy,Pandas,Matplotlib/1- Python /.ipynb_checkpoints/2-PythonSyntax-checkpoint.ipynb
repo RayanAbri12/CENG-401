{
 "cells": [
  {
   "cell_type": "markdown",
   "id": "c0e56287",
   "metadata": {},
   "source": [
    "# Python\n",
    "\n",
    "\n",
    "* Comparison Operators\n",
    "* if, elif, else Statements\n",
    "* for Loops\n",
    "* while Loops\n",
    "* range()\n",
    "* list comprehension\n",
    "* functions\n",
    "* lambda expressions (map and filter)\n",
    "* methods"
   ]
  },
  {
   "cell_type": "markdown",
   "id": "e982faa0",
   "metadata": {},
   "source": [
    "# Comparison Operators"
   ]
  },
  {
   "cell_type": "code",
   "execution_count": 2,
   "id": "c23d9682",
   "metadata": {},
   "outputs": [
    {
     "data": {
      "text/plain": [
       "False"
      ]
     },
     "execution_count": 2,
     "metadata": {},
     "output_type": "execute_result"
    }
   ],
   "source": [
    "45 > 400"
   ]
  },
  {
   "cell_type": "code",
   "execution_count": 3,
   "id": "6a756e62",
   "metadata": {},
   "outputs": [
    {
     "data": {
      "text/plain": [
       "True"
      ]
     },
     "execution_count": 3,
     "metadata": {},
     "output_type": "execute_result"
    }
   ],
   "source": [
    "45 >= 45"
   ]
  },
  {
   "cell_type": "code",
   "execution_count": 4,
   "id": "e7991bf0",
   "metadata": {},
   "outputs": [
    {
     "data": {
      "text/plain": [
       "True"
      ]
     },
     "execution_count": 4,
     "metadata": {},
     "output_type": "execute_result"
    }
   ],
   "source": [
    "45 == 45"
   ]
  },
  {
   "cell_type": "code",
   "execution_count": 5,
   "id": "ba836ef8",
   "metadata": {},
   "outputs": [
    {
     "data": {
      "text/plain": [
       "True"
      ]
     },
     "execution_count": 5,
     "metadata": {},
     "output_type": "execute_result"
    }
   ],
   "source": [
    "45 != 5"
   ]
  },
  {
   "cell_type": "code",
   "execution_count": 7,
   "id": "9a58a277",
   "metadata": {},
   "outputs": [
    {
     "data": {
      "text/plain": [
       "True"
      ]
     },
     "execution_count": 7,
     "metadata": {},
     "output_type": "execute_result"
    }
   ],
   "source": [
    "45 > 44 and 4 >= 2 "
   ]
  },
  {
   "cell_type": "code",
   "execution_count": 9,
   "id": "08f6e03f",
   "metadata": {},
   "outputs": [
    {
     "data": {
      "text/plain": [
       "True"
      ]
     },
     "execution_count": 9,
     "metadata": {},
     "output_type": "execute_result"
    }
   ],
   "source": [
    "45 > 44 or 4 >= 6 "
   ]
  },
  {
   "cell_type": "markdown",
   "id": "369c5c6a",
   "metadata": {},
   "source": [
    "# if, elif, else Statements"
   ]
  },
  {
   "cell_type": "code",
   "execution_count": 10,
   "id": "693253fd",
   "metadata": {},
   "outputs": [
    {
     "name": "stdout",
     "output_type": "stream",
     "text": [
      "yes\n"
     ]
    }
   ],
   "source": [
    "if 2<4:\n",
    "    print('yes')"
   ]
  },
  {
   "cell_type": "code",
   "execution_count": 11,
   "id": "ebfdc47f",
   "metadata": {},
   "outputs": [
    {
     "name": "stdout",
     "output_type": "stream",
     "text": [
      "yes\n"
     ]
    }
   ],
   "source": [
    "if True:\n",
    "    print('yes')"
   ]
  },
  {
   "cell_type": "code",
   "execution_count": 12,
   "id": "80f3ada0",
   "metadata": {},
   "outputs": [
    {
     "name": "stdout",
     "output_type": "stream",
     "text": [
      "no\n"
     ]
    }
   ],
   "source": [
    "if 1 == 2:\n",
    "    print('yes')\n",
    "else:\n",
    "    print('no')"
   ]
  },
  {
   "cell_type": "code",
   "execution_count": 15,
   "id": "650582aa",
   "metadata": {},
   "outputs": [
    {
     "name": "stdout",
     "output_type": "stream",
     "text": [
      "test elif\n"
     ]
    }
   ],
   "source": [
    "if 45!=45:\n",
    "    print('yes')\n",
    "elif 45!=44:\n",
    "    print('test elif')\n",
    "else:\n",
    "    print('no')"
   ]
  },
  {
   "cell_type": "code",
   "execution_count": 16,
   "id": "74983278",
   "metadata": {},
   "outputs": [
    {
     "name": "stdout",
     "output_type": "stream",
     "text": [
      "2\n"
     ]
    }
   ],
   "source": [
    "if 45!=45:\n",
    "    print('yes')\n",
    "elif 2==2:\n",
    "    print(2)\n",
    "elif 3==3:\n",
    "    print(3)\n",
    "else:\n",
    "    print('no')"
   ]
  },
  {
   "cell_type": "markdown",
   "id": "cf6c3ac9",
   "metadata": {},
   "source": [
    "# for Loops"
   ]
  },
  {
   "cell_type": "code",
   "execution_count": 17,
   "id": "531fbba2",
   "metadata": {},
   "outputs": [],
   "source": [
    "_seq = [3,4,45,657,78,9,23,4,6,8,9,20,32]"
   ]
  },
  {
   "cell_type": "code",
   "execution_count": 18,
   "id": "4031ebae",
   "metadata": {},
   "outputs": [
    {
     "name": "stdout",
     "output_type": "stream",
     "text": [
      "3\n",
      "4\n",
      "45\n",
      "657\n",
      "78\n",
      "9\n",
      "23\n",
      "4\n",
      "6\n",
      "8\n",
      "9\n",
      "20\n",
      "32\n"
     ]
    }
   ],
   "source": [
    "for num in _seq:\n",
    "    print(num)"
   ]
  },
  {
   "cell_type": "markdown",
   "id": "c019b2e3",
   "metadata": {},
   "source": [
    "# while Loops "
   ]
  },
  {
   "cell_type": "code",
   "execution_count": 19,
   "id": "c947eef3",
   "metadata": {},
   "outputs": [
    {
     "name": "stdout",
     "output_type": "stream",
     "text": [
      "i is 100\n",
      "i is 101\n",
      "i is 102\n",
      "i is 103\n",
      "i is 104\n",
      "i is 105\n",
      "i is 106\n",
      "i is 107\n",
      "i is 108\n",
      "i is 109\n"
     ]
    }
   ],
   "source": [
    "i =100\n",
    "\n",
    "while i<110:\n",
    "    print('i is {}'.format(i))\n",
    "    i = i+1\n",
    "    "
   ]
  },
  {
   "cell_type": "markdown",
   "id": "03dc217e",
   "metadata": {},
   "source": [
    "# range() \n",
    "\n"
   ]
  },
  {
   "cell_type": "code",
   "execution_count": 21,
   "id": "6b7bead1",
   "metadata": {},
   "outputs": [
    {
     "data": {
      "text/plain": [
       "range(1, 14)"
      ]
     },
     "execution_count": 21,
     "metadata": {},
     "output_type": "execute_result"
    }
   ],
   "source": [
    "range(1,14)"
   ]
  },
  {
   "cell_type": "code",
   "execution_count": 22,
   "id": "084bcb81",
   "metadata": {},
   "outputs": [
    {
     "name": "stdout",
     "output_type": "stream",
     "text": [
      "1\n",
      "2\n",
      "3\n",
      "4\n",
      "5\n",
      "6\n",
      "7\n",
      "8\n",
      "9\n",
      "10\n",
      "11\n",
      "12\n",
      "13\n"
     ]
    }
   ],
   "source": [
    "for i in range(1,14):\n",
    "    print(i)"
   ]
  },
  {
   "cell_type": "code",
   "execution_count": 25,
   "id": "cb6b9810",
   "metadata": {},
   "outputs": [],
   "source": [
    "_list = list(range(1,14))"
   ]
  },
  {
   "cell_type": "markdown",
   "id": "9a6e1150",
   "metadata": {},
   "source": [
    "# list comprehension"
   ]
  },
  {
   "cell_type": "code",
   "execution_count": 26,
   "id": "e94c1d64",
   "metadata": {},
   "outputs": [],
   "source": [
    "_output_list = []\n",
    "\n",
    "for num in _list:\n",
    "    _output_list.append(num**2)"
   ]
  },
  {
   "cell_type": "code",
   "execution_count": 27,
   "id": "66c5fb4f",
   "metadata": {},
   "outputs": [
    {
     "data": {
      "text/plain": [
       "[1, 4, 9, 16, 25, 36, 49, 64, 81, 100, 121, 144, 169]"
      ]
     },
     "execution_count": 27,
     "metadata": {},
     "output_type": "execute_result"
    }
   ],
   "source": [
    "_output_list"
   ]
  },
  {
   "cell_type": "code",
   "execution_count": 28,
   "id": "9e70b7b5",
   "metadata": {},
   "outputs": [],
   "source": [
    "#list comprehension \n",
    "\n",
    "_output_list = [num**3 for num in _list]"
   ]
  },
  {
   "cell_type": "code",
   "execution_count": 29,
   "id": "e2657ee7",
   "metadata": {},
   "outputs": [
    {
     "data": {
      "text/plain": [
       "[1, 8, 27, 64, 125, 216, 343, 512, 729, 1000, 1331, 1728, 2197]"
      ]
     },
     "execution_count": 29,
     "metadata": {},
     "output_type": "execute_result"
    }
   ],
   "source": [
    "_output_list"
   ]
  },
  {
   "cell_type": "markdown",
   "id": "c06df9c6",
   "metadata": {},
   "source": [
    "# functions"
   ]
  },
  {
   "cell_type": "code",
   "execution_count": 38,
   "id": "e4209408",
   "metadata": {},
   "outputs": [],
   "source": [
    "def foo(param1 = 'Default Value'):\n",
    "    print('Merhaba ' + param1)"
   ]
  },
  {
   "cell_type": "code",
   "execution_count": 39,
   "id": "cbbe45ea",
   "metadata": {},
   "outputs": [
    {
     "name": "stdout",
     "output_type": "stream",
     "text": [
      "Merhaba Rayan\n"
     ]
    }
   ],
   "source": [
    "foo('Rayan')"
   ]
  },
  {
   "cell_type": "code",
   "execution_count": 40,
   "id": "1bb428f1",
   "metadata": {},
   "outputs": [
    {
     "name": "stdout",
     "output_type": "stream",
     "text": [
      "Merhaba Default Value\n"
     ]
    }
   ],
   "source": [
    "foo()"
   ]
  },
  {
   "cell_type": "code",
   "execution_count": 41,
   "id": "4ccf6d15",
   "metadata": {},
   "outputs": [],
   "source": [
    "def foo1(num):\n",
    "    \"\"\"\n",
    "    Multiple line comments\n",
    "    Function\n",
    "\n",
    "    \"\"\"\n",
    "    return num**6"
   ]
  },
  {
   "cell_type": "code",
   "execution_count": 44,
   "id": "5ac64921",
   "metadata": {},
   "outputs": [],
   "source": [
    "x = foo1(234)"
   ]
  },
  {
   "cell_type": "code",
   "execution_count": 45,
   "id": "6da3b6b6",
   "metadata": {},
   "outputs": [
    {
     "data": {
      "text/plain": [
       "164170508913216"
      ]
     },
     "execution_count": 45,
     "metadata": {},
     "output_type": "execute_result"
    }
   ],
   "source": [
    "x"
   ]
  },
  {
   "cell_type": "markdown",
   "id": "88a7df1d",
   "metadata": {},
   "source": [
    "# lambda expressions (map and filter)"
   ]
  },
  {
   "cell_type": "code",
   "execution_count": 56,
   "id": "17a7cc68",
   "metadata": {},
   "outputs": [],
   "source": [
    "#map() , When we want to apply foo1 function in ll elements of a list \n",
    "\n",
    "_output = map(foo1,_list)"
   ]
  },
  {
   "cell_type": "code",
   "execution_count": 57,
   "id": "cab344cf",
   "metadata": {},
   "outputs": [
    {
     "data": {
      "text/plain": [
       "<map at 0x7fb0589621c0>"
      ]
     },
     "execution_count": 57,
     "metadata": {},
     "output_type": "execute_result"
    }
   ],
   "source": [
    "_output"
   ]
  },
  {
   "cell_type": "code",
   "execution_count": 58,
   "id": "4c312fab",
   "metadata": {},
   "outputs": [],
   "source": [
    "# need to be converted to the list first\n",
    "\n",
    "_output = list(map(foo1,_list))"
   ]
  },
  {
   "cell_type": "code",
   "execution_count": 59,
   "id": "d24bf2fd",
   "metadata": {},
   "outputs": [
    {
     "data": {
      "text/plain": [
       "[1,\n",
       " 64,\n",
       " 729,\n",
       " 4096,\n",
       " 15625,\n",
       " 46656,\n",
       " 117649,\n",
       " 262144,\n",
       " 531441,\n",
       " 1000000,\n",
       " 1771561,\n",
       " 2985984,\n",
       " 4826809]"
      ]
     },
     "execution_count": 59,
     "metadata": {},
     "output_type": "execute_result"
    }
   ],
   "source": [
    "_output"
   ]
  },
  {
   "cell_type": "code",
   "execution_count": 60,
   "id": "0aec9bc4",
   "metadata": {},
   "outputs": [],
   "source": [
    "_lambda = lambda var:var*2"
   ]
  },
  {
   "cell_type": "code",
   "execution_count": 61,
   "id": "d6f8ab84",
   "metadata": {},
   "outputs": [
    {
     "data": {
      "text/plain": [
       "26"
      ]
     },
     "execution_count": 61,
     "metadata": {},
     "output_type": "execute_result"
    }
   ],
   "source": [
    "_lambda(13)"
   ]
  },
  {
   "cell_type": "code",
   "execution_count": 62,
   "id": "550f0282",
   "metadata": {},
   "outputs": [],
   "source": [
    "_output = list(map(lambda num:num+1, _output))"
   ]
  },
  {
   "cell_type": "code",
   "execution_count": 63,
   "id": "10b3727b",
   "metadata": {},
   "outputs": [
    {
     "data": {
      "text/plain": [
       "[2,\n",
       " 65,\n",
       " 730,\n",
       " 4097,\n",
       " 15626,\n",
       " 46657,\n",
       " 117650,\n",
       " 262145,\n",
       " 531442,\n",
       " 1000001,\n",
       " 1771562,\n",
       " 2985985,\n",
       " 4826810]"
      ]
     },
     "execution_count": 63,
     "metadata": {},
     "output_type": "execute_result"
    }
   ],
   "source": [
    "_output"
   ]
  },
  {
   "cell_type": "code",
   "execution_count": 64,
   "id": "4371f468",
   "metadata": {},
   "outputs": [
    {
     "data": {
      "text/plain": [
       "[2, 730, 15626, 117650, 531442, 1771562, 4826810]"
      ]
     },
     "execution_count": 64,
     "metadata": {},
     "output_type": "execute_result"
    }
   ],
   "source": [
    "list(filter(lambda x:x%2 == 0, _output))"
   ]
  },
  {
   "cell_type": "code",
   "execution_count": 65,
   "id": "96aa37cb",
   "metadata": {},
   "outputs": [],
   "source": [
    "#methods in particular types"
   ]
  },
  {
   "cell_type": "code",
   "execution_count": 68,
   "id": "54571c6d",
   "metadata": {},
   "outputs": [],
   "source": [
    "_string = 'this is a test !string'"
   ]
  },
  {
   "cell_type": "code",
   "execution_count": 69,
   "id": "1d980e05",
   "metadata": {},
   "outputs": [
    {
     "data": {
      "text/plain": [
       "['this', 'is', 'a', 'test', '!string']"
      ]
     },
     "execution_count": 69,
     "metadata": {},
     "output_type": "execute_result"
    }
   ],
   "source": [
    "_string.split()"
   ]
  },
  {
   "cell_type": "code",
   "execution_count": 70,
   "id": "c174877d",
   "metadata": {},
   "outputs": [
    {
     "data": {
      "text/plain": [
       "['this is a test ', 'string']"
      ]
     },
     "execution_count": 70,
     "metadata": {},
     "output_type": "execute_result"
    }
   ],
   "source": [
    "_string.split('!')"
   ]
  },
  {
   "cell_type": "code",
   "execution_count": 71,
   "id": "c5a393a2",
   "metadata": {},
   "outputs": [
    {
     "data": {
      "text/plain": [
       "'string'"
      ]
     },
     "execution_count": 71,
     "metadata": {},
     "output_type": "execute_result"
    }
   ],
   "source": [
    "_string.split('!')[1]"
   ]
  },
  {
   "cell_type": "code",
   "execution_count": 72,
   "id": "8d4e4f44",
   "metadata": {},
   "outputs": [
    {
     "data": {
      "text/plain": [
       "'THIS IS A TEST !STRING'"
      ]
     },
     "execution_count": 72,
     "metadata": {},
     "output_type": "execute_result"
    }
   ],
   "source": [
    "_string.upper()"
   ]
  },
  {
   "cell_type": "code",
   "execution_count": 73,
   "id": "976db543",
   "metadata": {},
   "outputs": [],
   "source": [
    "_dictionary = {'key1': 1, \"key2\": 2}"
   ]
  },
  {
   "cell_type": "code",
   "execution_count": 75,
   "id": "97744704",
   "metadata": {},
   "outputs": [
    {
     "data": {
      "text/plain": [
       "dict_keys(['key1', 'key2'])"
      ]
     },
     "execution_count": 75,
     "metadata": {},
     "output_type": "execute_result"
    }
   ],
   "source": [
    "_dictionary.keys()"
   ]
  },
  {
   "cell_type": "code",
   "execution_count": 76,
   "id": "e2ba94b3",
   "metadata": {},
   "outputs": [
    {
     "data": {
      "text/plain": [
       "dict_items([('key1', 1), ('key2', 2)])"
      ]
     },
     "execution_count": 76,
     "metadata": {},
     "output_type": "execute_result"
    }
   ],
   "source": [
    "_dictionary.items()"
   ]
  },
  {
   "cell_type": "code",
   "execution_count": 77,
   "id": "20022964",
   "metadata": {},
   "outputs": [
    {
     "data": {
      "text/plain": [
       "dict_values([1, 2])"
      ]
     },
     "execution_count": 77,
     "metadata": {},
     "output_type": "execute_result"
    }
   ],
   "source": [
    "_dictionary.values()"
   ]
  },
  {
   "cell_type": "code",
   "execution_count": 78,
   "id": "020fa219",
   "metadata": {},
   "outputs": [],
   "source": [
    "_lst = [1,2,3,4,5,6,7]"
   ]
  },
  {
   "cell_type": "code",
   "execution_count": 79,
   "id": "533cf245",
   "metadata": {},
   "outputs": [
    {
     "data": {
      "text/plain": [
       "7"
      ]
     },
     "execution_count": 79,
     "metadata": {},
     "output_type": "execute_result"
    }
   ],
   "source": [
    "_lst.pop()"
   ]
  },
  {
   "cell_type": "code",
   "execution_count": 80,
   "id": "4a2b0599",
   "metadata": {},
   "outputs": [
    {
     "data": {
      "text/plain": [
       "[1, 2, 3, 4, 5, 6]"
      ]
     },
     "execution_count": 80,
     "metadata": {},
     "output_type": "execute_result"
    }
   ],
   "source": [
    "_lst"
   ]
  },
  {
   "cell_type": "code",
   "execution_count": 81,
   "id": "85c54deb",
   "metadata": {},
   "outputs": [
    {
     "data": {
      "text/plain": [
       "2"
      ]
     },
     "execution_count": 81,
     "metadata": {},
     "output_type": "execute_result"
    }
   ],
   "source": [
    "_lst.pop(1)"
   ]
  },
  {
   "cell_type": "code",
   "execution_count": 82,
   "id": "50f30cf2",
   "metadata": {},
   "outputs": [
    {
     "data": {
      "text/plain": [
       "[1, 3, 4, 5, 6]"
      ]
     },
     "execution_count": 82,
     "metadata": {},
     "output_type": "execute_result"
    }
   ],
   "source": [
    "_lst"
   ]
  },
  {
   "cell_type": "code",
   "execution_count": 83,
   "id": "a3494705",
   "metadata": {},
   "outputs": [
    {
     "data": {
      "text/plain": [
       "False"
      ]
     },
     "execution_count": 83,
     "metadata": {},
     "output_type": "execute_result"
    }
   ],
   "source": [
    "'F' in _lst"
   ]
  },
  {
   "cell_type": "code",
   "execution_count": 84,
   "id": "3490dbfd",
   "metadata": {},
   "outputs": [
    {
     "data": {
      "text/plain": [
       "True"
      ]
     },
     "execution_count": 84,
     "metadata": {},
     "output_type": "execute_result"
    }
   ],
   "source": [
    "1 in _lst"
   ]
  },
  {
   "cell_type": "code",
   "execution_count": 87,
   "id": "44cd5f15",
   "metadata": {},
   "outputs": [],
   "source": [
    "_v = [(1,4,5),(56,7,9),(3,4,6)]"
   ]
  },
  {
   "cell_type": "code",
   "execution_count": 88,
   "id": "69711f65",
   "metadata": {},
   "outputs": [
    {
     "name": "stdout",
     "output_type": "stream",
     "text": [
      "5\n",
      "9\n",
      "6\n"
     ]
    }
   ],
   "source": [
    "for a,b,c in _v:\n",
    "    print(c)"
   ]
  },
  {
   "cell_type": "code",
   "execution_count": null,
   "id": "b45c8115",
   "metadata": {},
   "outputs": [],
   "source": []
  },
  {
   "cell_type": "code",
   "execution_count": null,
   "id": "8a32efa0",
   "metadata": {},
   "outputs": [],
   "source": []
  }
 ],
 "metadata": {
  "kernelspec": {
   "display_name": "Python 3 (ipykernel)",
   "language": "python",
   "name": "python3"
  },
  "language_info": {
   "codemirror_mode": {
    "name": "ipython",
    "version": 3
   },
   "file_extension": ".py",
   "mimetype": "text/x-python",
   "name": "python",
   "nbconvert_exporter": "python",
   "pygments_lexer": "ipython3",
   "version": "3.8.12"
  }
 },
 "nbformat": 4,
 "nbformat_minor": 5
}
